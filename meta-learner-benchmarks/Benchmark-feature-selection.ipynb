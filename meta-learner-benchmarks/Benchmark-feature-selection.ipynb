{
 "cells": [
  {
   "cell_type": "code",
   "execution_count": 1,
   "metadata": {},
   "outputs": [],
   "source": [
    "import numpy as np\n",
    "import pandas as pd"
   ]
  },
  {
   "cell_type": "code",
   "execution_count": 2,
   "metadata": {},
   "outputs": [],
   "source": [
    "import pickle\n",
    "from scipy.sparse import csr_matrix\n",
    "import matplotlib.pyplot as plt\n",
    "from sklearn.model_selection import train_test_split\n",
    "from sklearn.linear_model import LassoCV, MultiTaskElasticNetCV, ElasticNetCV, LogisticRegression\n",
    "from sklearn.metrics import f1_score, accuracy_score\n",
    "from sklearn.ensemble import GradientBoostingRegressor\n",
    "from sklearn.multiclass import OneVsOneClassifier, OneVsRestClassifier\n",
    "from xgboost import XGBClassifier, XGBRegressor\n",
    "\n",
    "import seaborn as sns\n",
    "\n",
    "from lightgbm import LGBMRegressor, LGBMClassifier\n",
    "from sklearn.svm import SVC"
   ]
  },
  {
   "cell_type": "code",
   "execution_count": 3,
   "metadata": {},
   "outputs": [],
   "source": [
    "import matplotlib.pyplot as plt"
   ]
  },
  {
   "cell_type": "code",
   "execution_count": 4,
   "metadata": {},
   "outputs": [],
   "source": [
    "%load_ext autoreload\n",
    "%autoreload 1"
   ]
  },
  {
   "cell_type": "code",
   "execution_count": 5,
   "metadata": {},
   "outputs": [],
   "source": [
    "import logging\n",
    "logger = logging.getLogger('causalml')\n",
    "logging.basicConfig(level=logging.INFO)"
   ]
  },
  {
   "cell_type": "code",
   "execution_count": 6,
   "metadata": {},
   "outputs": [],
   "source": [
    "data_path='../Processed/final/'\n",
    "save_path='../Processed/final/'"
   ]
  },
  {
   "cell_type": "markdown",
   "metadata": {},
   "source": [
    "# Data processing"
   ]
  },
  {
   "cell_type": "code",
   "execution_count": 7,
   "metadata": {},
   "outputs": [],
   "source": [
    "(Y_train, T_train, X_train, W_train)=pickle.load(open(data_path+'YTXW_train.pkl','rb'))\n",
    "(Y_test, T_test, X_test, W_test)=pickle.load(open(data_path+'YTXW_test.pkl','rb'))\n",
    "(Y_val, T_val, X_val, W_val)=pickle.load(open(data_path+'YTXW_val.pkl','rb'))"
   ]
  },
  {
   "cell_type": "code",
   "execution_count": 8,
   "metadata": {},
   "outputs": [],
   "source": [
    "le_dx=pickle.load(open(data_path+'le_dx.pkl','rb'))\n",
    "le_patid=pickle.load(open(data_path+'le_patid.pkl','rb'))\n",
    "selected_patient_feature=['age_onset','obs_win','female']+['race__'+c for c in ['A','B','H','U','W']]\n",
    "rx2id = pickle.load(open(data_path+'drug_dict.pkl', 'rb'))"
   ]
  },
  {
   "cell_type": "code",
   "execution_count": 9,
   "metadata": {},
   "outputs": [],
   "source": [
    "from sklearn import preprocessing\n",
    "\n",
    "def prepare(y, t, w, x, rx2id, target):\n",
    "    patid_temp = list(w['patid'].unique())\n",
    "    temp_le = preprocessing.LabelEncoder()\n",
    "    temp_le.fit(list(patid_temp))\n",
    "    w['row_idx'] = temp_le.transform(w['patid'])\n",
    "    \n",
    "    w_sparse = csr_matrix((w['log_count'], (w['row_idx'], w['phecode3'])))\n",
    "    w = w_sparse.toarray()\n",
    "    \n",
    "    x_temp = np.concatenate((w, x.values), axis=1)\n",
    "    \n",
    "    treatment_train = [0] * len(t)\n",
    "    temp_index = t.index\n",
    "    idx = 0\n",
    "\n",
    "    def get_classes(value):\n",
    "        return [k for k, v in rx2id.items() if v == value]\n",
    "\n",
    "    for i in temp_index:\n",
    "        classes = t.loc[i, 'antiasthma']\n",
    "        if (classes != target):\n",
    "            treatment_train[idx] = 'control'\n",
    "        else:\n",
    "            treatment_train[idx] = 'treatment'\n",
    "        idx += 1\n",
    "        \n",
    "    treatment = pd.DataFrame(treatment_train)\n",
    "    treatment.index = temp_index\n",
    "    treatment.columns = ['treatment']\n",
    "    \n",
    "    y = pd.DataFrame(y)\n",
    "    feature_df = pd.DataFrame(x_temp)\n",
    "    feature_df.index = y.index\n",
    "    \n",
    "    df = pd.concat([y, treatment, t, feature_df], axis=1)\n",
    "    df.index = np.arange(0, len(df))\n",
    "    return df"
   ]
  },
  {
   "cell_type": "code",
   "execution_count": 10,
   "metadata": {},
   "outputs": [],
   "source": [
    "target = 5\n",
    "df_val0 = prepare(Y_val, T_val, W_val, X_val, rx2id, target)\n",
    "df_test0 = prepare(Y_test, T_test, W_test, X_test, rx2id, target)\n",
    "df_train0 = prepare(Y_train, T_train, W_train, X_train, rx2id, target)"
   ]
  },
  {
   "cell_type": "code",
   "execution_count": 11,
   "metadata": {},
   "outputs": [],
   "source": [
    "x_train0 = df_train0.iloc[:, 5:]\n",
    "x_test0 = df_test0.iloc[:, 5:]\n",
    "x_val0 = df_val0.iloc[:, 5:]"
   ]
  },
  {
   "cell_type": "markdown",
   "metadata": {},
   "source": [
    "# Benchmark"
   ]
  },
  {
   "cell_type": "code",
   "execution_count": 12,
   "metadata": {},
   "outputs": [],
   "source": [
    "from causalml.inference.meta import BaseXRegressor, BaseRRegressor, BaseSRegressor, BaseTRegressor\n",
    "from causalml.metrics import plot_gain, auuc_score\n",
    "from causalml.inference.meta import LRSRegressor\n",
    "from causalml.inference.meta import XGBTRegressor, MLPTRegressor\n",
    "from causalml.inference.meta import BaseSClassifier, BaseTClassifier, BaseXClassifier, BaseRClassifier\n",
    "from causalml.feature_selection.filters import FilterSelect\n",
    "\n",
    "from causalml.propensity import GradientBoostedPropensityModel\n",
    "from causalml.propensity import compute_propensity_score\n",
    "\n",
    "from sklearn.model_selection import train_test_split\n",
    "from sklearn.ensemble import RandomForestRegressor, RandomForestClassifier\n",
    "from sklearn.ensemble import GradientBoostingRegressor, GradientBoostingClassifier\n",
    "from sklearn.linear_model import ElasticNet\n",
    "\n",
    "\n",
    "from causalml.feature_selection.filters import FilterSelect\n",
    "from causalml.metrics import plot_gain, auuc_score"
   ]
  },
  {
   "cell_type": "code",
   "execution_count": 13,
   "metadata": {},
   "outputs": [],
   "source": [
    "from sklearn.metrics import roc_curve\n",
    "from sklearn.metrics import roc_auc_score"
   ]
  },
  {
   "cell_type": "markdown",
   "metadata": {},
   "source": [
    "## Feature selection for propensity scores"
   ]
  },
  {
   "cell_type": "code",
   "execution_count": 14,
   "metadata": {},
   "outputs": [],
   "source": [
    "t = df_train0['treatment']\n",
    "treatment = [0] * len(t)\n",
    "for i in range(len(t)):\n",
    "    if t[i] == 'control':\n",
    "        treatment[i] = 0\n",
    "    else:\n",
    "        treatment[i] = 1"
   ]
  },
  {
   "cell_type": "code",
   "execution_count": 15,
   "metadata": {},
   "outputs": [],
   "source": [
    "t_test = df_test0['treatment']\n",
    "treatment_test = [0] * len(t_test)\n",
    "for i in range(len(t_test)):\n",
    "    if t_test[i] == 'control':\n",
    "        treatment_test[i] = 0\n",
    "    else:\n",
    "        treatment_test[i] = 1 "
   ]
  },
  {
   "cell_type": "code",
   "execution_count": 16,
   "metadata": {},
   "outputs": [],
   "source": [
    "t_val = df_val0['treatment']\n",
    "treatment_val = [0] * len(t_val)\n",
    "for i in range(len(t_val)):\n",
    "    if t_val[i] == 'control':\n",
    "        treatment_val[i] = 0\n",
    "    else:\n",
    "        treatment_val[i] = 1 "
   ]
  },
  {
   "cell_type": "markdown",
   "metadata": {},
   "source": [
    "### L1 based feature selection"
   ]
  },
  {
   "cell_type": "code",
   "execution_count": 17,
   "metadata": {},
   "outputs": [],
   "source": [
    "from sklearn.svm import LinearSVC\n",
    "from sklearn.feature_selection import SelectFromModel\n",
    "lsvc = LinearSVC(C=0.1, penalty=\"l1\", dual=False).fit(x_train0,treatment)\n",
    "model = SelectFromModel(lsvc, prefit=True)\n",
    "x_new = model.transform(x_train0)"
   ]
  },
  {
   "cell_type": "code",
   "execution_count": 18,
   "metadata": {},
   "outputs": [
    {
     "data": {
      "text/plain": [
       "((6771, 249), (6771, 207))"
      ]
     },
     "execution_count": 18,
     "metadata": {},
     "output_type": "execute_result"
    }
   ],
   "source": [
    "x_train0.shape, x_new.shape"
   ]
  },
  {
   "cell_type": "code",
   "execution_count": 19,
   "metadata": {},
   "outputs": [],
   "source": [
    "x_new_val = model.transform(x_val0)"
   ]
  },
  {
   "cell_type": "markdown",
   "metadata": {},
   "source": [
    "### Logistic regression"
   ]
  },
  {
   "cell_type": "code",
   "execution_count": 20,
   "metadata": {},
   "outputs": [
    {
     "data": {
      "text/plain": [
       "0.5538050684211843"
      ]
     },
     "execution_count": 20,
     "metadata": {},
     "output_type": "execute_result"
    }
   ],
   "source": [
    "glm = LogisticRegression(max_iter = 3000)\n",
    "glm.fit(x_train0, treatment)\n",
    "t_pred_p = glm.predict_proba(x_val0)\n",
    "lr_probs = t_pred_p[:, 1]\n",
    "roc_auc_score(treatment_val, lr_probs)"
   ]
  },
  {
   "cell_type": "code",
   "execution_count": 21,
   "metadata": {},
   "outputs": [
    {
     "data": {
      "text/plain": [
       "((2257, 207), (6771, 207))"
      ]
     },
     "execution_count": 21,
     "metadata": {},
     "output_type": "execute_result"
    }
   ],
   "source": [
    "x_new_val.shape, x_new.shape"
   ]
  },
  {
   "cell_type": "raw",
   "metadata": {},
   "source": [
    "glm = LogisticRegression(max_iter = 3000)\n",
    "glm.fit(x_new, treatment)\n",
    "t_pred_p = glm.predict_proba(x_new_val)\n",
    "lr_probs = t_pred_p[:, 1]\n",
    "roc_auc_score(treatment_val, lr_probs)"
   ]
  },
  {
   "cell_type": "markdown",
   "metadata": {},
   "source": [
    "### Random Forest"
   ]
  },
  {
   "cell_type": "code",
   "execution_count": 17,
   "metadata": {},
   "outputs": [
    {
     "data": {
      "text/plain": [
       "0.5773767084448669"
      ]
     },
     "execution_count": 17,
     "metadata": {},
     "output_type": "execute_result"
    }
   ],
   "source": [
    "rf = RandomForestClassifier(max_depth=6, random_state=1105)\n",
    "rf.fit(x_train0, treatment)\n",
    "t_pred_p = rf.predict_proba(x_val0)\n",
    "lr_probs = t_pred_p[:, 1]\n",
    "roc_auc_score(treatment_val, lr_probs)"
   ]
  },
  {
   "cell_type": "code",
   "execution_count": 23,
   "metadata": {},
   "outputs": [
    {
     "data": {
      "text/plain": [
       "0.5655233949582635"
      ]
     },
     "execution_count": 23,
     "metadata": {},
     "output_type": "execute_result"
    }
   ],
   "source": [
    "rf = RandomForestClassifier(max_depth=6, random_state=1105)\n",
    "rf.fit(x_new, treatment)\n",
    "t_pred_p = rf.predict_proba(x_new_val)\n",
    "lr_probs = t_pred_p[:, 1]\n",
    "roc_auc_score(treatment_val, lr_probs)"
   ]
  },
  {
   "cell_type": "markdown",
   "metadata": {},
   "source": [
    "## Feature selection for meta-learners"
   ]
  },
  {
   "cell_type": "code",
   "execution_count": 18,
   "metadata": {},
   "outputs": [],
   "source": [
    "y_test = df_test0['adrd']\n",
    "l_test = len(x_test0)\n",
    "score = rf.predict_proba(x_test0)\n",
    "e_test = {t: score[0:l_test, t] for t in np.unique(treatment_test)}\n",
    "xgb_plugin1 = XGBClassifier(max_depth=6, random_state=1105, n_estimators=100)\n",
    "xgb_plugin0 = XGBClassifier(max_depth=6, random_state=1108, n_estimators=100)\n",
    "x0 = df_train0.loc[df_train0['treatment'] == 'control', 0:248]\n",
    "y0 = df_train0.loc[df_train0['treatment'] == 'control', 'adrd']\n",
    "xgb_plugin0.fit(x0, y0)\n",
    "x1 = df_train0.loc[df_train0['treatment'] == 'treatment', 0:248]\n",
    "y1 = df_train0.loc[df_train0['treatment'] == 'treatment', 'adrd']\n",
    "y_pred1 = xgb_plugin1.fit(x1, y1)\n",
    "y_pred0 = xgb_plugin0.predict(x_test0)\n",
    "y_pred1 = xgb_plugin1.predict(x_test0)\n",
    "t_plugin = y_pred1 - y_pred0\n",
    "ps = rf.predict_proba(x_test0)[:, 1]\n",
    "a = (treatment_test - ps)\n",
    "ident = np.array([1]*len(ps))\n",
    "c = (ps*(ident-ps))\n",
    "b = np.array([2]*len(treatment_test))*treatment_test*(treatment_test-ps) / c"
   ]
  },
  {
   "cell_type": "code",
   "execution_count": 20,
   "metadata": {},
   "outputs": [],
   "source": [
    "filter_f = FilterSelect()"
   ]
  },
  {
   "cell_type": "code",
   "execution_count": 46,
   "metadata": {},
   "outputs": [
    {
     "data": {
      "text/html": [
       "<div>\n",
       "<style scoped>\n",
       "    .dataframe tbody tr th:only-of-type {\n",
       "        vertical-align: middle;\n",
       "    }\n",
       "\n",
       "    .dataframe tbody tr th {\n",
       "        vertical-align: top;\n",
       "    }\n",
       "\n",
       "    .dataframe thead th {\n",
       "        text-align: right;\n",
       "    }\n",
       "</style>\n",
       "<table border=\"1\" class=\"dataframe\">\n",
       "  <thead>\n",
       "    <tr style=\"text-align: right;\">\n",
       "      <th></th>\n",
       "      <th>adrd</th>\n",
       "      <th>treatment</th>\n",
       "      <th>patid</th>\n",
       "      <th>antiasthma</th>\n",
       "      <th>log_count</th>\n",
       "      <th>0</th>\n",
       "      <th>1</th>\n",
       "      <th>2</th>\n",
       "      <th>3</th>\n",
       "      <th>4</th>\n",
       "      <th>...</th>\n",
       "      <th>240</th>\n",
       "      <th>241</th>\n",
       "      <th>242</th>\n",
       "      <th>243</th>\n",
       "      <th>244</th>\n",
       "      <th>245</th>\n",
       "      <th>246</th>\n",
       "      <th>247</th>\n",
       "      <th>248</th>\n",
       "      <th>treatment_group_key</th>\n",
       "    </tr>\n",
       "  </thead>\n",
       "  <tbody>\n",
       "    <tr>\n",
       "      <th>0</th>\n",
       "      <td>0</td>\n",
       "      <td>control</td>\n",
       "      <td>9722</td>\n",
       "      <td>1</td>\n",
       "      <td>1.945910</td>\n",
       "      <td>0.0</td>\n",
       "      <td>0.0</td>\n",
       "      <td>0.000000</td>\n",
       "      <td>0.000000</td>\n",
       "      <td>0.000000</td>\n",
       "      <td>...</td>\n",
       "      <td>0.0</td>\n",
       "      <td>0.0</td>\n",
       "      <td>75.0</td>\n",
       "      <td>1.0</td>\n",
       "      <td>1.0</td>\n",
       "      <td>0.0</td>\n",
       "      <td>0.0</td>\n",
       "      <td>0.0</td>\n",
       "      <td>0.0</td>\n",
       "      <td>control</td>\n",
       "    </tr>\n",
       "    <tr>\n",
       "      <th>1</th>\n",
       "      <td>0</td>\n",
       "      <td>treatment</td>\n",
       "      <td>1232</td>\n",
       "      <td>5</td>\n",
       "      <td>1.386294</td>\n",
       "      <td>0.0</td>\n",
       "      <td>0.0</td>\n",
       "      <td>1.098612</td>\n",
       "      <td>1.098612</td>\n",
       "      <td>0.693147</td>\n",
       "      <td>...</td>\n",
       "      <td>0.0</td>\n",
       "      <td>0.0</td>\n",
       "      <td>72.0</td>\n",
       "      <td>0.0</td>\n",
       "      <td>0.0</td>\n",
       "      <td>0.0</td>\n",
       "      <td>0.0</td>\n",
       "      <td>0.0</td>\n",
       "      <td>1.0</td>\n",
       "      <td>treatment</td>\n",
       "    </tr>\n",
       "    <tr>\n",
       "      <th>2</th>\n",
       "      <td>0</td>\n",
       "      <td>control</td>\n",
       "      <td>2220</td>\n",
       "      <td>1</td>\n",
       "      <td>3.583519</td>\n",
       "      <td>0.0</td>\n",
       "      <td>0.0</td>\n",
       "      <td>0.000000</td>\n",
       "      <td>0.000000</td>\n",
       "      <td>0.000000</td>\n",
       "      <td>...</td>\n",
       "      <td>0.0</td>\n",
       "      <td>0.0</td>\n",
       "      <td>74.0</td>\n",
       "      <td>0.0</td>\n",
       "      <td>0.0</td>\n",
       "      <td>0.0</td>\n",
       "      <td>0.0</td>\n",
       "      <td>0.0</td>\n",
       "      <td>1.0</td>\n",
       "      <td>control</td>\n",
       "    </tr>\n",
       "    <tr>\n",
       "      <th>3</th>\n",
       "      <td>0</td>\n",
       "      <td>control</td>\n",
       "      <td>1806</td>\n",
       "      <td>4</td>\n",
       "      <td>0.693147</td>\n",
       "      <td>0.0</td>\n",
       "      <td>0.0</td>\n",
       "      <td>0.000000</td>\n",
       "      <td>0.000000</td>\n",
       "      <td>0.000000</td>\n",
       "      <td>...</td>\n",
       "      <td>0.0</td>\n",
       "      <td>0.0</td>\n",
       "      <td>83.0</td>\n",
       "      <td>1.0</td>\n",
       "      <td>0.0</td>\n",
       "      <td>0.0</td>\n",
       "      <td>1.0</td>\n",
       "      <td>0.0</td>\n",
       "      <td>0.0</td>\n",
       "      <td>control</td>\n",
       "    </tr>\n",
       "    <tr>\n",
       "      <th>4</th>\n",
       "      <td>0</td>\n",
       "      <td>control</td>\n",
       "      <td>9768</td>\n",
       "      <td>2</td>\n",
       "      <td>1.386294</td>\n",
       "      <td>0.0</td>\n",
       "      <td>0.0</td>\n",
       "      <td>0.000000</td>\n",
       "      <td>0.000000</td>\n",
       "      <td>0.000000</td>\n",
       "      <td>...</td>\n",
       "      <td>0.0</td>\n",
       "      <td>0.0</td>\n",
       "      <td>84.0</td>\n",
       "      <td>0.0</td>\n",
       "      <td>0.0</td>\n",
       "      <td>0.0</td>\n",
       "      <td>0.0</td>\n",
       "      <td>0.0</td>\n",
       "      <td>1.0</td>\n",
       "      <td>control</td>\n",
       "    </tr>\n",
       "  </tbody>\n",
       "</table>\n",
       "<p>5 rows × 255 columns</p>\n",
       "</div>"
      ],
      "text/plain": [
       "   adrd  treatment  patid  antiasthma  log_count    0    1         2  \\\n",
       "0     0    control   9722           1   1.945910  0.0  0.0  0.000000   \n",
       "1     0  treatment   1232           5   1.386294  0.0  0.0  1.098612   \n",
       "2     0    control   2220           1   3.583519  0.0  0.0  0.000000   \n",
       "3     0    control   1806           4   0.693147  0.0  0.0  0.000000   \n",
       "4     0    control   9768           2   1.386294  0.0  0.0  0.000000   \n",
       "\n",
       "          3         4  ...  240  241   242  243  244  245  246  247  248  \\\n",
       "0  0.000000  0.000000  ...  0.0  0.0  75.0  1.0  1.0  0.0  0.0  0.0  0.0   \n",
       "1  1.098612  0.693147  ...  0.0  0.0  72.0  0.0  0.0  0.0  0.0  0.0  1.0   \n",
       "2  0.000000  0.000000  ...  0.0  0.0  74.0  0.0  0.0  0.0  0.0  0.0  1.0   \n",
       "3  0.000000  0.000000  ...  0.0  0.0  83.0  1.0  0.0  0.0  1.0  0.0  0.0   \n",
       "4  0.000000  0.000000  ...  0.0  0.0  84.0  0.0  0.0  0.0  0.0  0.0  1.0   \n",
       "\n",
       "   treatment_group_key  \n",
       "0              control  \n",
       "1            treatment  \n",
       "2              control  \n",
       "3              control  \n",
       "4              control  \n",
       "\n",
       "[5 rows x 255 columns]"
      ]
     },
     "execution_count": 46,
     "metadata": {},
     "output_type": "execute_result"
    }
   ],
   "source": [
    "df_train0.head()"
   ]
  },
  {
   "cell_type": "code",
   "execution_count": 22,
   "metadata": {},
   "outputs": [],
   "source": [
    "df_train0['treatment_group_key'] = df_train0['treatment']"
   ]
  },
  {
   "cell_type": "code",
   "execution_count": 23,
   "metadata": {},
   "outputs": [],
   "source": [
    "x_names = np.arange(0, 249)"
   ]
  },
  {
   "cell_type": "code",
   "execution_count": 24,
   "metadata": {},
   "outputs": [],
   "source": [
    "y_name = 'adrd'"
   ]
  },
  {
   "cell_type": "markdown",
   "metadata": {},
   "source": [
    "### F-test"
   ]
  },
  {
   "cell_type": "code",
   "execution_count": 50,
   "metadata": {},
   "outputs": [
    {
     "name": "stdout",
     "output_type": "stream",
     "text": [
      "      method  feature   rank     score   p_value  \\\n",
      "0   F filter       85    1.0  7.691654  0.005563   \n",
      "0   F filter       27    2.0  6.036848  0.014035   \n",
      "0   F filter      124    3.0  5.650028  0.017483   \n",
      "0   F filter      164    4.0  5.387751  0.020308   \n",
      "0   F filter       24    5.0  5.260037  0.021851   \n",
      "..       ...      ...    ...       ...       ...   \n",
      "0   F filter      116  245.0  0.000130  0.990888   \n",
      "0   F filter      158  246.0  0.000106  0.991786   \n",
      "0   F filter       47  247.0  0.000075  0.993105   \n",
      "0   F filter      120  248.0  0.000041  0.994906   \n",
      "0   F filter       26  249.0  0.000002  0.998886   \n",
      "\n",
      "                             misc  \n",
      "0   df_num: 1.0, df_denom: 6767.0  \n",
      "0   df_num: 1.0, df_denom: 6767.0  \n",
      "0   df_num: 1.0, df_denom: 6767.0  \n",
      "0   df_num: 1.0, df_denom: 6767.0  \n",
      "0   df_num: 1.0, df_denom: 6767.0  \n",
      "..                            ...  \n",
      "0   df_num: 1.0, df_denom: 6767.0  \n",
      "0   df_num: 1.0, df_denom: 6767.0  \n",
      "0   df_num: 1.0, df_denom: 6767.0  \n",
      "0   df_num: 1.0, df_denom: 6767.0  \n",
      "0   df_num: 1.0, df_denom: 6767.0  \n",
      "\n",
      "[249 rows x 6 columns]\n"
     ]
    }
   ],
   "source": [
    "method = 'F'\n",
    "f_imp = filter_f.get_importance(df_train0, x_names, y_name, method, \n",
    "                      treatment_group = 'treatment')\n",
    "print(f_imp)"
   ]
  },
  {
   "cell_type": "code",
   "execution_count": 51,
   "metadata": {},
   "outputs": [],
   "source": [
    "fet_p005 = f_imp[((f_imp['p_value'] < 0.05))] "
   ]
  },
  {
   "cell_type": "code",
   "execution_count": 52,
   "metadata": {},
   "outputs": [],
   "source": [
    "fet_nm_p005 = list(fet_p005['feature'])"
   ]
  },
  {
   "cell_type": "code",
   "execution_count": 53,
   "metadata": {
    "scrolled": true
   },
   "outputs": [
    {
     "data": {
      "text/plain": [
       "11"
      ]
     },
     "execution_count": 53,
     "metadata": {},
     "output_type": "execute_result"
    }
   ],
   "source": [
    "len(fet_nm_p005)"
   ]
  },
  {
   "cell_type": "code",
   "execution_count": 54,
   "metadata": {},
   "outputs": [],
   "source": [
    "fet_s1= f_imp[(f_imp['score'] > 1)]"
   ]
  },
  {
   "cell_type": "code",
   "execution_count": 55,
   "metadata": {},
   "outputs": [
    {
     "data": {
      "text/plain": [
       "73"
      ]
     },
     "execution_count": 55,
     "metadata": {},
     "output_type": "execute_result"
    }
   ],
   "source": [
    "fet_nm_s1 = list(fet_s1['feature'])\n",
    "len(fet_nm_s1)"
   ]
  },
  {
   "cell_type": "code",
   "execution_count": 58,
   "metadata": {},
   "outputs": [
    {
     "name": "stderr",
     "output_type": "stream",
     "text": [
      "INFO:causalml:Error metrics for group treatment\n",
      "INFO:causalml:     AUC   (Control):     0.5201\n",
      "INFO:causalml:     AUC (Treatment):     0.4792\n",
      "INFO:causalml:Log Loss   (Control):     0.3924\n",
      "INFO:causalml:Log Loss (Treatment):     0.3260\n",
      "INFO:causalml:Error metrics for group treatment\n",
      "INFO:causalml:     AUC   (Control):     0.7638\n",
      "INFO:causalml:     AUC (Treatment):     0.8438\n",
      "INFO:causalml:Log Loss   (Control):     0.3556\n",
      "INFO:causalml:Log Loss (Treatment):     0.2812\n",
      "INFO:causalml:Error metrics for group treatment\n",
      "INFO:causalml:     AUC   (Control):     0.5142\n",
      "INFO:causalml:     AUC (Treatment):     0.5271\n",
      "INFO:causalml:Log Loss   (Control):     0.3932\n",
      "INFO:causalml:Log Loss (Treatment):     0.3234\n",
      "INFO:causalml:Error metrics for group treatment\n",
      "INFO:causalml:     AUC   (Control):     0.8303\n",
      "INFO:causalml:     AUC (Treatment):     0.9022\n",
      "INFO:causalml:Log Loss   (Control):     0.3492\n",
      "INFO:causalml:Log Loss (Treatment):     0.2742\n",
      "INFO:causalml:Error metrics for group treatment\n",
      "INFO:causalml:     AUC   (Control):     0.5161\n",
      "INFO:causalml:     AUC (Treatment):     0.5474\n",
      "INFO:causalml:Log Loss   (Control):     0.3933\n",
      "INFO:causalml:Log Loss (Treatment):     0.3226\n",
      "INFO:causalml:Error metrics for group treatment\n",
      "INFO:causalml:     AUC   (Control):     0.8656\n",
      "INFO:causalml:     AUC (Treatment):     0.8891\n",
      "INFO:causalml:Log Loss   (Control):     0.3438\n",
      "INFO:causalml:Log Loss (Treatment):     0.2783\n",
      "INFO:causalml:Error metrics for group treatment\n",
      "INFO:causalml:     AUC   (Control):     0.5035\n",
      "INFO:causalml:     AUC (Treatment):     0.5827\n",
      "INFO:causalml:Log Loss   (Control):     0.3939\n",
      "INFO:causalml:Log Loss (Treatment):     0.3226\n",
      "INFO:causalml:Error metrics for group treatment\n",
      "INFO:causalml:     AUC   (Control):     0.8838\n",
      "INFO:causalml:     AUC (Treatment):     0.9202\n",
      "INFO:causalml:Log Loss   (Control):     0.3332\n",
      "INFO:causalml:Log Loss (Treatment):     0.2673\n",
      "INFO:causalml:Error metrics for group treatment\n",
      "INFO:causalml:     AUC   (Control):     0.5338\n",
      "INFO:causalml:     AUC (Treatment):     0.5734\n",
      "INFO:causalml:Log Loss   (Control):     0.3922\n",
      "INFO:causalml:Log Loss (Treatment):     0.3242\n",
      "INFO:causalml:Error metrics for group treatment\n",
      "INFO:causalml:     AUC   (Control):     0.9125\n",
      "INFO:causalml:     AUC (Treatment):     0.8969\n",
      "INFO:causalml:Log Loss   (Control):     0.3252\n",
      "INFO:causalml:Log Loss (Treatment):     0.2732\n",
      "INFO:causalml:Error metrics for group treatment\n",
      "INFO:causalml:     AUC   (Control):     0.5234\n",
      "INFO:causalml:     AUC (Treatment):     0.5423\n",
      "INFO:causalml:Log Loss   (Control):     0.3925\n",
      "INFO:causalml:Log Loss (Treatment):     0.3243\n",
      "INFO:causalml:Error metrics for group treatment\n",
      "INFO:causalml:     AUC   (Control):     0.9222\n",
      "INFO:causalml:     AUC (Treatment):     0.9112\n",
      "INFO:causalml:Log Loss   (Control):     0.3236\n",
      "INFO:causalml:Log Loss (Treatment):     0.2710\n",
      "INFO:causalml:Error metrics for group treatment\n",
      "INFO:causalml:     AUC   (Control):     0.5300\n",
      "INFO:causalml:     AUC (Treatment):     0.5485\n",
      "INFO:causalml:Log Loss   (Control):     0.3926\n",
      "INFO:causalml:Log Loss (Treatment):     0.3237\n",
      "INFO:causalml:Error metrics for group treatment\n",
      "INFO:causalml:     AUC   (Control):     0.9303\n",
      "INFO:causalml:     AUC (Treatment):     0.9276\n",
      "INFO:causalml:Log Loss   (Control):     0.3234\n",
      "INFO:causalml:Log Loss (Treatment):     0.2722\n",
      "INFO:causalml:Error metrics for group treatment\n",
      "INFO:causalml:     AUC   (Control):     0.5159\n",
      "INFO:causalml:     AUC (Treatment):     0.5478\n",
      "INFO:causalml:Log Loss   (Control):     0.3930\n",
      "INFO:causalml:Log Loss (Treatment):     0.3235\n",
      "INFO:causalml:Error metrics for group treatment\n",
      "INFO:causalml:     AUC   (Control):     0.9347\n",
      "INFO:causalml:     AUC (Treatment):     0.9148\n",
      "INFO:causalml:Log Loss   (Control):     0.3167\n",
      "INFO:causalml:Log Loss (Treatment):     0.2692\n",
      "INFO:causalml:Error metrics for group treatment\n",
      "INFO:causalml:     AUC   (Control):     0.5172\n",
      "INFO:causalml:     AUC (Treatment):     0.5250\n",
      "INFO:causalml:Log Loss   (Control):     0.3932\n",
      "INFO:causalml:Log Loss (Treatment):     0.3251\n",
      "INFO:causalml:Error metrics for group treatment\n",
      "INFO:causalml:     AUC   (Control):     0.9442\n",
      "INFO:causalml:     AUC (Treatment):     0.9316\n",
      "INFO:causalml:Log Loss   (Control):     0.3171\n",
      "INFO:causalml:Log Loss (Treatment):     0.2700\n",
      "INFO:causalml:Error metrics for group treatment\n",
      "INFO:causalml:     AUC   (Control):     0.5047\n",
      "INFO:causalml:     AUC (Treatment):     0.5264\n",
      "INFO:causalml:Log Loss   (Control):     0.3935\n",
      "INFO:causalml:Log Loss (Treatment):     0.3241\n",
      "INFO:causalml:Error metrics for group treatment\n",
      "INFO:causalml:     AUC   (Control):     0.9467\n",
      "INFO:causalml:     AUC (Treatment):     0.9280\n",
      "INFO:causalml:Log Loss   (Control):     0.3169\n",
      "INFO:causalml:Log Loss (Treatment):     0.2730\n",
      "INFO:causalml:Error metrics for group treatment\n",
      "INFO:causalml:     AUC   (Control):     0.5318\n",
      "INFO:causalml:     AUC (Treatment):     0.5491\n",
      "INFO:causalml:Log Loss   (Control):     0.3903\n",
      "INFO:causalml:Log Loss (Treatment):     0.3218\n",
      "INFO:causalml:Error metrics for group treatment\n",
      "INFO:causalml:     AUC   (Control):     0.9533\n",
      "INFO:causalml:     AUC (Treatment):     0.9392\n",
      "INFO:causalml:Log Loss   (Control):     0.3162\n",
      "INFO:causalml:Log Loss (Treatment):     0.2706\n",
      "INFO:causalml:Error metrics for group treatment\n",
      "INFO:causalml:     AUC   (Control):     0.5407\n",
      "INFO:causalml:     AUC (Treatment):     0.5877\n",
      "INFO:causalml:Log Loss   (Control):     0.3900\n",
      "INFO:causalml:Log Loss (Treatment):     0.3205\n",
      "INFO:causalml:Error metrics for group treatment\n",
      "INFO:causalml:     AUC   (Control):     0.9508\n",
      "INFO:causalml:     AUC (Treatment):     0.9316\n",
      "INFO:causalml:Log Loss   (Control):     0.3159\n",
      "INFO:causalml:Log Loss (Treatment):     0.2690\n",
      "INFO:causalml:Error metrics for group treatment\n",
      "INFO:causalml:     AUC   (Control):     0.5491\n",
      "INFO:causalml:     AUC (Treatment):     0.5641\n",
      "INFO:causalml:Log Loss   (Control):     0.3892\n",
      "INFO:causalml:Log Loss (Treatment):     0.3222\n",
      "INFO:causalml:Error metrics for group treatment\n",
      "INFO:causalml:     AUC   (Control):     0.9559\n",
      "INFO:causalml:     AUC (Treatment):     0.9256\n",
      "INFO:causalml:Log Loss   (Control):     0.3198\n",
      "INFO:causalml:Log Loss (Treatment):     0.2746\n",
      "INFO:causalml:Error metrics for group treatment\n",
      "INFO:causalml:     AUC   (Control):     0.5382\n",
      "INFO:causalml:     AUC (Treatment):     0.5618\n",
      "INFO:causalml:Log Loss   (Control):     0.3905\n",
      "INFO:causalml:Log Loss (Treatment):     0.3217\n",
      "INFO:causalml:Error metrics for group treatment\n",
      "INFO:causalml:     AUC   (Control):     0.9525\n",
      "INFO:causalml:     AUC (Treatment):     0.9456\n",
      "INFO:causalml:Log Loss   (Control):     0.3175\n",
      "INFO:causalml:Log Loss (Treatment):     0.2716\n",
      "INFO:causalml:Error metrics for group treatment\n",
      "INFO:causalml:     AUC   (Control):     0.5368\n",
      "INFO:causalml:     AUC (Treatment):     0.5962\n",
      "INFO:causalml:Log Loss   (Control):     0.3898\n",
      "INFO:causalml:Log Loss (Treatment):     0.3211\n",
      "INFO:causalml:Error metrics for group treatment\n",
      "INFO:causalml:     AUC   (Control):     0.9433\n",
      "INFO:causalml:     AUC (Treatment):     0.9735\n",
      "INFO:causalml:Log Loss   (Control):     0.2945\n",
      "INFO:causalml:Log Loss (Treatment):     0.2403\n",
      "INFO:causalml:Error metrics for group treatment\n",
      "INFO:causalml:     AUC   (Control):     0.5208\n",
      "INFO:causalml:     AUC (Treatment):     0.5932\n",
      "INFO:causalml:Log Loss   (Control):     0.3914\n",
      "INFO:causalml:Log Loss (Treatment):     0.3215\n",
      "INFO:causalml:Error metrics for group treatment\n",
      "INFO:causalml:     AUC   (Control):     0.9445\n",
      "INFO:causalml:     AUC (Treatment):     0.9733\n",
      "INFO:causalml:Log Loss   (Control):     0.2943\n",
      "INFO:causalml:Log Loss (Treatment):     0.2414\n",
      "INFO:causalml:Error metrics for group treatment\n",
      "INFO:causalml:     AUC   (Control):     0.5575\n",
      "INFO:causalml:     AUC (Treatment):     0.5580\n",
      "INFO:causalml:Log Loss   (Control):     0.3899\n",
      "INFO:causalml:Log Loss (Treatment):     0.3229\n",
      "INFO:causalml:Error metrics for group treatment\n",
      "INFO:causalml:     AUC   (Control):     0.9555\n",
      "INFO:causalml:     AUC (Treatment):     0.9775\n",
      "INFO:causalml:Log Loss   (Control):     0.2920\n",
      "INFO:causalml:Log Loss (Treatment):     0.2416\n",
      "INFO:causalml:Error metrics for group treatment\n",
      "INFO:causalml:     AUC   (Control):     0.5383\n",
      "INFO:causalml:     AUC (Treatment):     0.5162\n",
      "INFO:causalml:Log Loss   (Control):     0.3906\n"
     ]
    },
    {
     "name": "stderr",
     "output_type": "stream",
     "text": [
      "INFO:causalml:Log Loss (Treatment):     0.3252\n",
      "INFO:causalml:Error metrics for group treatment\n",
      "INFO:causalml:     AUC   (Control):     0.9568\n",
      "INFO:causalml:     AUC (Treatment):     0.9777\n",
      "INFO:causalml:Log Loss   (Control):     0.2914\n",
      "INFO:causalml:Log Loss (Treatment):     0.2393\n",
      "INFO:causalml:Error metrics for group treatment\n",
      "INFO:causalml:     AUC   (Control):     0.5272\n",
      "INFO:causalml:     AUC (Treatment):     0.5360\n",
      "INFO:causalml:Log Loss   (Control):     0.3917\n",
      "INFO:causalml:Log Loss (Treatment):     0.3238\n",
      "INFO:causalml:Error metrics for group treatment\n",
      "INFO:causalml:     AUC   (Control):     0.9640\n",
      "INFO:causalml:     AUC (Treatment):     0.9822\n",
      "INFO:causalml:Log Loss   (Control):     0.2943\n",
      "INFO:causalml:Log Loss (Treatment):     0.2430\n",
      "INFO:causalml:Error metrics for group treatment\n",
      "INFO:causalml:     AUC   (Control):     0.5506\n",
      "INFO:causalml:     AUC (Treatment):     0.5811\n",
      "INFO:causalml:Log Loss   (Control):     0.3914\n",
      "INFO:causalml:Log Loss (Treatment):     0.3235\n",
      "INFO:causalml:Error metrics for group treatment\n",
      "INFO:causalml:     AUC   (Control):     0.9625\n",
      "INFO:causalml:     AUC (Treatment):     0.9785\n",
      "INFO:causalml:Log Loss   (Control):     0.2876\n",
      "INFO:causalml:Log Loss (Treatment):     0.2367\n",
      "INFO:causalml:Error metrics for group treatment\n",
      "INFO:causalml:     AUC   (Control):     0.5562\n",
      "INFO:causalml:     AUC (Treatment):     0.5826\n",
      "INFO:causalml:Log Loss   (Control):     0.3898\n",
      "INFO:causalml:Log Loss (Treatment):     0.3222\n",
      "INFO:causalml:Error metrics for group treatment\n",
      "INFO:causalml:     AUC   (Control):     0.9484\n",
      "INFO:causalml:     AUC (Treatment):     0.9701\n",
      "INFO:causalml:Log Loss   (Control):     0.2879\n",
      "INFO:causalml:Log Loss (Treatment):     0.2357\n",
      "INFO:causalml:Error metrics for group treatment\n",
      "INFO:causalml:     AUC   (Control):     0.5602\n",
      "INFO:causalml:     AUC (Treatment):     0.5009\n",
      "INFO:causalml:Log Loss   (Control):     0.3903\n",
      "INFO:causalml:Log Loss (Treatment):     0.3247\n",
      "INFO:causalml:Error metrics for group treatment\n",
      "INFO:causalml:     AUC   (Control):     0.9606\n",
      "INFO:causalml:     AUC (Treatment):     0.9812\n",
      "INFO:causalml:Log Loss   (Control):     0.2909\n",
      "INFO:causalml:Log Loss (Treatment):     0.2394\n",
      "INFO:causalml:Error metrics for group treatment\n",
      "INFO:causalml:     AUC   (Control):     0.5624\n",
      "INFO:causalml:     AUC (Treatment):     0.5491\n",
      "INFO:causalml:Log Loss   (Control):     0.3897\n",
      "INFO:causalml:Log Loss (Treatment):     0.3236\n",
      "INFO:causalml:Error metrics for group treatment\n",
      "INFO:causalml:     AUC   (Control):     0.9627\n",
      "INFO:causalml:     AUC (Treatment):     0.9811\n",
      "INFO:causalml:Log Loss   (Control):     0.2874\n",
      "INFO:causalml:Log Loss (Treatment):     0.2353\n",
      "INFO:causalml:Error metrics for group treatment\n",
      "INFO:causalml:     AUC   (Control):     0.5268\n",
      "INFO:causalml:     AUC (Treatment):     0.5444\n",
      "INFO:causalml:Log Loss   (Control):     0.3910\n",
      "INFO:causalml:Log Loss (Treatment):     0.3229\n",
      "INFO:causalml:Error metrics for group treatment\n",
      "INFO:causalml:     AUC   (Control):     0.9673\n",
      "INFO:causalml:     AUC (Treatment):     0.9790\n",
      "INFO:causalml:Log Loss   (Control):     0.2861\n",
      "INFO:causalml:Log Loss (Treatment):     0.2399\n",
      "INFO:causalml:Error metrics for group treatment\n",
      "INFO:causalml:     AUC   (Control):     0.5402\n",
      "INFO:causalml:     AUC (Treatment):     0.5087\n",
      "INFO:causalml:Log Loss   (Control):     0.3901\n",
      "INFO:causalml:Log Loss (Treatment):     0.3245\n",
      "INFO:causalml:Error metrics for group treatment\n",
      "INFO:causalml:     AUC   (Control):     0.9805\n",
      "INFO:causalml:     AUC (Treatment):     0.9902\n",
      "INFO:causalml:Log Loss   (Control):     0.2564\n",
      "INFO:causalml:Log Loss (Treatment):     0.2153\n"
     ]
    }
   ],
   "source": [
    "res_df = pd.DataFrame({'num_features': np.arange(10, 260, 20), 'ERMSE': np.arange(13), 'IF-PEHE': np.arange(13)})\n",
    "for i in range(10, 250, 10):\n",
    "    features = list(f_imp.loc[f_imp['rank'] <= i, 'feature'])\n",
    "    x_temp_tr = df_train0[features]\n",
    "    x_temp_te = df_test0[features]\n",
    "    learner_srf = BaseSClassifier(learner=RandomForestClassifier(max_depth=6, random_state=1105), control_name='control')\n",
    "    learner_srf.fit(X=x_temp_tr,treatment=df_train0['treatment'],y=df_train0['adrd'])\n",
    "    cate_srf = learner_srf.predict(X=x_temp_te, treatment=df_test0['treatment'], y=df_test0['adrd'])\n",
    "    \n",
    "    test_learner_srf = BaseSClassifier(learner=RandomForestClassifier(max_depth=6, random_state=1105), control_name='control')\n",
    "    test_cate_srf = test_learner_srf.fit_predict(X=x_temp_te,\n",
    "                treatment=df_test0['treatment'], y=df_test0['adrd'])\n",
    "    \n",
    "    res_df.loc[res_df['num_features'] == i, 'ERMSE'] = ((cate_srf-test_cate_srf)**2).mean()**(1/2)\n",
    "    \n",
    "    cate_srf = learner_srf.predict(X=x_temp_te, treatment=treatment_test)\n",
    "    cate = cate_srf.flatten()\n",
    "    plug_in = (t_plugin-cate)**2\n",
    "    l_de = (ident - b) * t_plugin**2 + b*y_test*(t_plugin - cate) + (- a*(t_plugin - cate)**2 + cate**2)\n",
    "    res_df.loc[res_df['num_features'] == i, 'IF-PEHE'] = (np.sum(l_de) + np.sum(plug_in))\n",
    "    \n",
    "# Add the evaluation of all features\n",
    "learner_srf = BaseSClassifier(learner=RandomForestClassifier(max_depth=6, random_state=1105), control_name='control')\n",
    "learner_srf.fit(X=x_train0,treatment=df_train0['treatment'],y=df_train0['adrd'])\n",
    "cate_srf = learner_srf.predict(X=x_test0, treatment=df_test0['treatment'], y=df_test0['adrd'])\n",
    "    \n",
    "test_learner_srf = BaseSClassifier(learner=RandomForestClassifier(max_depth=6, random_state=1105), control_name='control')\n",
    "test_cate_srf = test_learner_srf.fit_predict(X=x_test0,treatment=df_test0['treatment'], y=df_test0['adrd'])\n",
    "\n",
    "res_df.iloc[12, 0] = 249\n",
    "res_df.iloc[12, 1] = ((cate_srf-test_cate_srf)**2).mean()**(1/2)\n",
    "cate_srf = learner_srf.predict(X=x_test0, treatment=treatment_test)\n",
    "\n",
    "cate = cate_srf.flatten()\n",
    "plug_in = (t_plugin-cate)**2\n",
    "l_de = (ident - b) * t_plugin**2 + b*y_test*(t_plugin - cate) + (- a*(t_plugin - cate)**2 + cate**2)\n",
    "res_df.iloc[12, 2] = (np.sum(l_de) + np.sum(plug_in))"
   ]
  },
  {
   "cell_type": "code",
   "execution_count": 59,
   "metadata": {},
   "outputs": [
    {
     "data": {
      "text/plain": [
       "Text(0, 0.5, 'IF-PEHE')"
      ]
     },
     "execution_count": 59,
     "metadata": {},
     "output_type": "execute_result"
    },
    {
     "data": {
      "image/png": "[encoded data removed]",
      "text/plain": [
       "<Figure size 432x288 with 1 Axes>"
      ]
     },
     "metadata": {},
     "output_type": "display_data"
    }
   ],
   "source": [
    "plt.plot(res_df['num_features'], res_df['IF-PEHE'])\n",
    "plt.xlabel('Number of features')\n",
    "plt.ylabel('IF-PEHE')"
   ]
  },
  {
   "cell_type": "code",
   "execution_count": 61,
   "metadata": {},
   "outputs": [
    {
     "data": {
      "text/plain": [
       "Text(0, 0.5, 'ERMSE')"
      ]
     },
     "execution_count": 61,
     "metadata": {},
     "output_type": "execute_result"
    },
    {
     "data": {
      "image/png": "[encoded data removed]",
      "text/plain": [
       "<Figure size 432x288 with 1 Axes>"
      ]
     },
     "metadata": {},
     "output_type": "display_data"
    }
   ],
   "source": [
    "plt.plot(res_df['num_features'], res_df['ERMSE'])\n",
    "plt.xlabel('Number of features')\n",
    "plt.ylabel('ERMSE')"
   ]
  },
  {
   "cell_type": "markdown",
   "metadata": {},
   "source": [
    "### KL divergence"
   ]
  },
  {
   "cell_type": "code",
   "execution_count": 25,
   "metadata": {},
   "outputs": [],
   "source": [
    "method = 'KL'\n",
    "f_imp = filter_f.get_importance(df_train0, x_names, y_name, method, \n",
    "                      treatment_group = 'treatment')"
   ]
  },
  {
   "cell_type": "code",
   "execution_count": 26,
   "metadata": {},
   "outputs": [
    {
     "name": "stdout",
     "output_type": "stream",
     "text": [
      "       method  feature   rank     score p_value               misc\n",
      "0   KL filter      122    1.0  0.003821    None  number_of_bins: 4\n",
      "0   KL filter      236    2.0  0.003021    None  number_of_bins: 2\n",
      "0   KL filter       42    3.0  0.002762    None  number_of_bins: 2\n",
      "0   KL filter      182    4.0  0.002760    None  number_of_bins: 3\n",
      "0   KL filter      201    5.0  0.002700    None  number_of_bins: 3\n",
      "..        ...      ...    ...       ...     ...                ...\n",
      "0   KL filter      115  171.0  0.000000    None  number_of_bins: 1\n",
      "0   KL filter      116  171.0  0.000000    None  number_of_bins: 1\n",
      "0   KL filter      248  171.0  0.000000    None  number_of_bins: 1\n",
      "0   KL filter       69  248.0 -0.000005    None  number_of_bins: 2\n",
      "0   KL filter      216  249.0 -0.000008    None  number_of_bins: 2\n",
      "\n",
      "[249 rows x 6 columns]\n"
     ]
    }
   ],
   "source": [
    "print(f_imp)"
   ]
  },
  {
   "cell_type": "code",
   "execution_count": 27,
   "metadata": {},
   "outputs": [
    {
     "data": {
      "text/html": [
       "<div>\n",
       "<style scoped>\n",
       "    .dataframe tbody tr th:only-of-type {\n",
       "        vertical-align: middle;\n",
       "    }\n",
       "\n",
       "    .dataframe tbody tr th {\n",
       "        vertical-align: top;\n",
       "    }\n",
       "\n",
       "    .dataframe thead th {\n",
       "        text-align: right;\n",
       "    }\n",
       "</style>\n",
       "<table border=\"1\" class=\"dataframe\">\n",
       "  <thead>\n",
       "    <tr style=\"text-align: right;\">\n",
       "      <th></th>\n",
       "      <th>method</th>\n",
       "      <th>feature</th>\n",
       "      <th>rank</th>\n",
       "      <th>score</th>\n",
       "      <th>p_value</th>\n",
       "      <th>misc</th>\n",
       "    </tr>\n",
       "  </thead>\n",
       "  <tbody>\n",
       "    <tr>\n",
       "      <th>0</th>\n",
       "      <td>KL filter</td>\n",
       "      <td>122</td>\n",
       "      <td>1.0</td>\n",
       "      <td>0.003821</td>\n",
       "      <td>None</td>\n",
       "      <td>number_of_bins: 4</td>\n",
       "    </tr>\n",
       "    <tr>\n",
       "      <th>0</th>\n",
       "      <td>KL filter</td>\n",
       "      <td>236</td>\n",
       "      <td>2.0</td>\n",
       "      <td>0.003021</td>\n",
       "      <td>None</td>\n",
       "      <td>number_of_bins: 2</td>\n",
       "    </tr>\n",
       "    <tr>\n",
       "      <th>0</th>\n",
       "      <td>KL filter</td>\n",
       "      <td>42</td>\n",
       "      <td>3.0</td>\n",
       "      <td>0.002762</td>\n",
       "      <td>None</td>\n",
       "      <td>number_of_bins: 2</td>\n",
       "    </tr>\n",
       "    <tr>\n",
       "      <th>0</th>\n",
       "      <td>KL filter</td>\n",
       "      <td>182</td>\n",
       "      <td>4.0</td>\n",
       "      <td>0.002760</td>\n",
       "      <td>None</td>\n",
       "      <td>number_of_bins: 3</td>\n",
       "    </tr>\n",
       "    <tr>\n",
       "      <th>0</th>\n",
       "      <td>KL filter</td>\n",
       "      <td>201</td>\n",
       "      <td>5.0</td>\n",
       "      <td>0.002700</td>\n",
       "      <td>None</td>\n",
       "      <td>number_of_bins: 3</td>\n",
       "    </tr>\n",
       "    <tr>\n",
       "      <th>0</th>\n",
       "      <td>KL filter</td>\n",
       "      <td>67</td>\n",
       "      <td>6.0</td>\n",
       "      <td>0.002663</td>\n",
       "      <td>None</td>\n",
       "      <td>number_of_bins: 3</td>\n",
       "    </tr>\n",
       "    <tr>\n",
       "      <th>0</th>\n",
       "      <td>KL filter</td>\n",
       "      <td>20</td>\n",
       "      <td>7.0</td>\n",
       "      <td>0.002300</td>\n",
       "      <td>None</td>\n",
       "      <td>number_of_bins: 3</td>\n",
       "    </tr>\n",
       "    <tr>\n",
       "      <th>0</th>\n",
       "      <td>KL filter</td>\n",
       "      <td>242</td>\n",
       "      <td>8.0</td>\n",
       "      <td>0.002277</td>\n",
       "      <td>None</td>\n",
       "      <td>number_of_bins: 5</td>\n",
       "    </tr>\n",
       "    <tr>\n",
       "      <th>0</th>\n",
       "      <td>KL filter</td>\n",
       "      <td>74</td>\n",
       "      <td>9.0</td>\n",
       "      <td>0.001534</td>\n",
       "      <td>None</td>\n",
       "      <td>number_of_bins: 2</td>\n",
       "    </tr>\n",
       "    <tr>\n",
       "      <th>0</th>\n",
       "      <td>KL filter</td>\n",
       "      <td>195</td>\n",
       "      <td>10.0</td>\n",
       "      <td>0.001526</td>\n",
       "      <td>None</td>\n",
       "      <td>number_of_bins: 4</td>\n",
       "    </tr>\n",
       "  </tbody>\n",
       "</table>\n",
       "</div>"
      ],
      "text/plain": [
       "      method  feature  rank     score p_value               misc\n",
       "0  KL filter      122   1.0  0.003821    None  number_of_bins: 4\n",
       "0  KL filter      236   2.0  0.003021    None  number_of_bins: 2\n",
       "0  KL filter       42   3.0  0.002762    None  number_of_bins: 2\n",
       "0  KL filter      182   4.0  0.002760    None  number_of_bins: 3\n",
       "0  KL filter      201   5.0  0.002700    None  number_of_bins: 3\n",
       "0  KL filter       67   6.0  0.002663    None  number_of_bins: 3\n",
       "0  KL filter       20   7.0  0.002300    None  number_of_bins: 3\n",
       "0  KL filter      242   8.0  0.002277    None  number_of_bins: 5\n",
       "0  KL filter       74   9.0  0.001534    None  number_of_bins: 2\n",
       "0  KL filter      195  10.0  0.001526    None  number_of_bins: 4"
      ]
     },
     "execution_count": 27,
     "metadata": {},
     "output_type": "execute_result"
    }
   ],
   "source": [
    "f_imp[f_imp['rank'] <= 10]"
   ]
  },
  {
   "cell_type": "code",
   "execution_count": 28,
   "metadata": {},
   "outputs": [
    {
     "name": "stderr",
     "output_type": "stream",
     "text": [
      "INFO:causalml:Error metrics for group treatment\n",
      "INFO:causalml:     AUC   (Control):     0.5026\n",
      "INFO:causalml:     AUC (Treatment):     0.5356\n",
      "INFO:causalml:Log Loss   (Control):     0.3899\n",
      "INFO:causalml:Log Loss (Treatment):     0.3183\n",
      "INFO:causalml:Error metrics for group treatment\n",
      "INFO:causalml:     AUC   (Control):     0.8656\n",
      "INFO:causalml:     AUC (Treatment):     0.9097\n",
      "INFO:causalml:Log Loss   (Control):     0.3339\n",
      "INFO:causalml:Log Loss (Treatment):     0.2708\n",
      "INFO:causalml:Error metrics for group treatment\n",
      "INFO:causalml:     AUC   (Control):     0.5233\n",
      "INFO:causalml:     AUC (Treatment):     0.5635\n",
      "INFO:causalml:Log Loss   (Control):     0.3892\n",
      "INFO:causalml:Log Loss (Treatment):     0.3184\n",
      "INFO:causalml:Error metrics for group treatment\n",
      "INFO:causalml:     AUC   (Control):     0.8980\n",
      "INFO:causalml:     AUC (Treatment):     0.9054\n",
      "INFO:causalml:Log Loss   (Control):     0.3167\n",
      "INFO:causalml:Log Loss (Treatment):     0.2656\n",
      "INFO:causalml:Error metrics for group treatment\n",
      "INFO:causalml:     AUC   (Control):     0.5249\n",
      "INFO:causalml:     AUC (Treatment):     0.5876\n",
      "INFO:causalml:Log Loss   (Control):     0.3896\n",
      "INFO:causalml:Log Loss (Treatment):     0.3188\n",
      "INFO:causalml:Error metrics for group treatment\n",
      "INFO:causalml:     AUC   (Control):     0.9319\n",
      "INFO:causalml:     AUC (Treatment):     0.9173\n",
      "INFO:causalml:Log Loss   (Control):     0.3084\n",
      "INFO:causalml:Log Loss (Treatment):     0.2633\n",
      "INFO:causalml:Error metrics for group treatment\n",
      "INFO:causalml:     AUC   (Control):     0.5233\n",
      "INFO:causalml:     AUC (Treatment):     0.6025\n",
      "INFO:causalml:Log Loss   (Control):     0.3901\n",
      "INFO:causalml:Log Loss (Treatment):     0.3195\n",
      "INFO:causalml:Error metrics for group treatment\n",
      "INFO:causalml:     AUC   (Control):     0.9311\n",
      "INFO:causalml:     AUC (Treatment):     0.9216\n",
      "INFO:causalml:Log Loss   (Control):     0.3012\n",
      "INFO:causalml:Log Loss (Treatment):     0.2561\n",
      "INFO:causalml:Error metrics for group treatment\n",
      "INFO:causalml:     AUC   (Control):     0.5560\n",
      "INFO:causalml:     AUC (Treatment):     0.4997\n",
      "INFO:causalml:Log Loss   (Control):     0.3882\n",
      "INFO:causalml:Log Loss (Treatment):     0.3221\n",
      "INFO:causalml:Error metrics for group treatment\n",
      "INFO:causalml:     AUC   (Control):     0.9414\n",
      "INFO:causalml:     AUC (Treatment):     0.9348\n",
      "INFO:causalml:Log Loss   (Control):     0.2993\n",
      "INFO:causalml:Log Loss (Treatment):     0.2590\n",
      "INFO:causalml:Error metrics for group treatment\n",
      "INFO:causalml:     AUC   (Control):     0.5125\n",
      "INFO:causalml:     AUC (Treatment):     0.4924\n",
      "INFO:causalml:Log Loss   (Control):     0.3902\n",
      "INFO:causalml:Log Loss (Treatment):     0.3230\n",
      "INFO:causalml:Error metrics for group treatment\n",
      "INFO:causalml:     AUC   (Control):     0.9515\n",
      "INFO:causalml:     AUC (Treatment):     0.9399\n",
      "INFO:causalml:Log Loss   (Control):     0.3027\n",
      "INFO:causalml:Log Loss (Treatment):     0.2585\n",
      "INFO:causalml:Error metrics for group treatment\n",
      "INFO:causalml:     AUC   (Control):     0.5269\n",
      "INFO:causalml:     AUC (Treatment):     0.5477\n",
      "INFO:causalml:Log Loss   (Control):     0.3908\n",
      "INFO:causalml:Log Loss (Treatment):     0.3222\n",
      "INFO:causalml:Error metrics for group treatment\n",
      "INFO:causalml:     AUC   (Control):     0.9530\n",
      "INFO:causalml:     AUC (Treatment):     0.9524\n",
      "INFO:causalml:Log Loss   (Control):     0.3004\n",
      "INFO:causalml:Log Loss (Treatment):     0.2567\n",
      "INFO:causalml:Error metrics for group treatment\n",
      "INFO:causalml:     AUC   (Control):     0.5284\n",
      "INFO:causalml:     AUC (Treatment):     0.4779\n",
      "INFO:causalml:Log Loss   (Control):     0.3907\n",
      "INFO:causalml:Log Loss (Treatment):     0.3232\n",
      "INFO:causalml:Error metrics for group treatment\n",
      "INFO:causalml:     AUC   (Control):     0.9513\n",
      "INFO:causalml:     AUC (Treatment):     0.9511\n",
      "INFO:causalml:Log Loss   (Control):     0.3026\n",
      "INFO:causalml:Log Loss (Treatment):     0.2558\n",
      "INFO:causalml:Error metrics for group treatment\n",
      "INFO:causalml:     AUC   (Control):     0.5316\n",
      "INFO:causalml:     AUC (Treatment):     0.5836\n",
      "INFO:causalml:Log Loss   (Control):     0.3898\n",
      "INFO:causalml:Log Loss (Treatment):     0.3206\n",
      "INFO:causalml:Error metrics for group treatment\n",
      "INFO:causalml:     AUC   (Control):     0.9592\n",
      "INFO:causalml:     AUC (Treatment):     0.9842\n",
      "INFO:causalml:Log Loss   (Control):     0.2746\n",
      "INFO:causalml:Log Loss (Treatment):     0.2190\n",
      "INFO:causalml:Error metrics for group treatment\n",
      "INFO:causalml:     AUC   (Control):     0.5349\n",
      "INFO:causalml:     AUC (Treatment):     0.5146\n",
      "INFO:causalml:Log Loss   (Control):     0.3906\n",
      "INFO:causalml:Log Loss (Treatment):     0.3216\n",
      "INFO:causalml:Error metrics for group treatment\n",
      "INFO:causalml:     AUC   (Control):     0.9594\n",
      "INFO:causalml:     AUC (Treatment):     0.9871\n",
      "INFO:causalml:Log Loss   (Control):     0.2784\n",
      "INFO:causalml:Log Loss (Treatment):     0.2223\n",
      "INFO:causalml:Error metrics for group treatment\n",
      "INFO:causalml:     AUC   (Control):     0.5349\n",
      "INFO:causalml:     AUC (Treatment):     0.5146\n",
      "INFO:causalml:Log Loss   (Control):     0.3906\n",
      "INFO:causalml:Log Loss (Treatment):     0.3216\n",
      "INFO:causalml:Error metrics for group treatment\n",
      "INFO:causalml:     AUC   (Control):     0.9594\n",
      "INFO:causalml:     AUC (Treatment):     0.9871\n",
      "INFO:causalml:Log Loss   (Control):     0.2784\n",
      "INFO:causalml:Log Loss (Treatment):     0.2223\n",
      "INFO:causalml:Error metrics for group treatment\n",
      "INFO:causalml:     AUC   (Control):     0.5349\n",
      "INFO:causalml:     AUC (Treatment):     0.5146\n",
      "INFO:causalml:Log Loss   (Control):     0.3906\n",
      "INFO:causalml:Log Loss (Treatment):     0.3216\n",
      "INFO:causalml:Error metrics for group treatment\n",
      "INFO:causalml:     AUC   (Control):     0.9594\n",
      "INFO:causalml:     AUC (Treatment):     0.9871\n",
      "INFO:causalml:Log Loss   (Control):     0.2784\n",
      "INFO:causalml:Log Loss (Treatment):     0.2223\n",
      "INFO:causalml:Error metrics for group treatment\n",
      "INFO:causalml:     AUC   (Control):     0.5349\n",
      "INFO:causalml:     AUC (Treatment):     0.5146\n",
      "INFO:causalml:Log Loss   (Control):     0.3906\n",
      "INFO:causalml:Log Loss (Treatment):     0.3216\n",
      "INFO:causalml:Error metrics for group treatment\n",
      "INFO:causalml:     AUC   (Control):     0.9594\n",
      "INFO:causalml:     AUC (Treatment):     0.9871\n",
      "INFO:causalml:Log Loss   (Control):     0.2784\n",
      "INFO:causalml:Log Loss (Treatment):     0.2223\n",
      "INFO:causalml:Error metrics for group treatment\n",
      "INFO:causalml:     AUC   (Control):     0.5349\n",
      "INFO:causalml:     AUC (Treatment):     0.5146\n",
      "INFO:causalml:Log Loss   (Control):     0.3906\n",
      "INFO:causalml:Log Loss (Treatment):     0.3216\n",
      "INFO:causalml:Error metrics for group treatment\n",
      "INFO:causalml:     AUC   (Control):     0.9594\n",
      "INFO:causalml:     AUC (Treatment):     0.9871\n",
      "INFO:causalml:Log Loss   (Control):     0.2784\n",
      "INFO:causalml:Log Loss (Treatment):     0.2223\n",
      "INFO:causalml:Error metrics for group treatment\n",
      "INFO:causalml:     AUC   (Control):     0.5349\n",
      "INFO:causalml:     AUC (Treatment):     0.5146\n",
      "INFO:causalml:Log Loss   (Control):     0.3906\n",
      "INFO:causalml:Log Loss (Treatment):     0.3216\n",
      "INFO:causalml:Error metrics for group treatment\n",
      "INFO:causalml:     AUC   (Control):     0.9594\n",
      "INFO:causalml:     AUC (Treatment):     0.9871\n",
      "INFO:causalml:Log Loss   (Control):     0.2784\n",
      "INFO:causalml:Log Loss (Treatment):     0.2223\n",
      "INFO:causalml:Error metrics for group treatment\n",
      "INFO:causalml:     AUC   (Control):     0.5349\n",
      "INFO:causalml:     AUC (Treatment):     0.5146\n",
      "INFO:causalml:Log Loss   (Control):     0.3906\n",
      "INFO:causalml:Log Loss (Treatment):     0.3216\n",
      "INFO:causalml:Error metrics for group treatment\n",
      "INFO:causalml:     AUC   (Control):     0.9594\n",
      "INFO:causalml:     AUC (Treatment):     0.9871\n",
      "INFO:causalml:Log Loss   (Control):     0.2784\n",
      "INFO:causalml:Log Loss (Treatment):     0.2223\n",
      "INFO:causalml:Error metrics for group treatment\n",
      "INFO:causalml:     AUC   (Control):     0.5349\n",
      "INFO:causalml:     AUC (Treatment):     0.5146\n",
      "INFO:causalml:Log Loss   (Control):     0.3906\n",
      "INFO:causalml:Log Loss (Treatment):     0.3216\n",
      "INFO:causalml:Error metrics for group treatment\n",
      "INFO:causalml:     AUC   (Control):     0.9594\n",
      "INFO:causalml:     AUC (Treatment):     0.9871\n",
      "INFO:causalml:Log Loss   (Control):     0.2784\n",
      "INFO:causalml:Log Loss (Treatment):     0.2223\n",
      "INFO:causalml:Error metrics for group treatment\n",
      "INFO:causalml:     AUC   (Control):     0.5323\n",
      "INFO:causalml:     AUC (Treatment):     0.5351\n",
      "INFO:causalml:Log Loss   (Control):     0.3904\n"
     ]
    },
    {
     "name": "stderr",
     "output_type": "stream",
     "text": [
      "INFO:causalml:Log Loss (Treatment):     0.3233\n",
      "INFO:causalml:Error metrics for group treatment\n",
      "INFO:causalml:     AUC   (Control):     0.9759\n",
      "INFO:causalml:     AUC (Treatment):     0.9880\n",
      "INFO:causalml:Log Loss   (Control):     0.2440\n",
      "INFO:causalml:Log Loss (Treatment):     0.2052\n",
      "INFO:causalml:Error metrics for group treatment\n",
      "INFO:causalml:     AUC   (Control):     0.5323\n",
      "INFO:causalml:     AUC (Treatment):     0.5351\n",
      "INFO:causalml:Log Loss   (Control):     0.3904\n",
      "INFO:causalml:Log Loss (Treatment):     0.3233\n",
      "INFO:causalml:Error metrics for group treatment\n",
      "INFO:causalml:     AUC   (Control):     0.9759\n",
      "INFO:causalml:     AUC (Treatment):     0.9880\n",
      "INFO:causalml:Log Loss   (Control):     0.2440\n",
      "INFO:causalml:Log Loss (Treatment):     0.2052\n",
      "INFO:causalml:Error metrics for group treatment\n",
      "INFO:causalml:     AUC   (Control):     0.5323\n",
      "INFO:causalml:     AUC (Treatment):     0.5351\n",
      "INFO:causalml:Log Loss   (Control):     0.3904\n",
      "INFO:causalml:Log Loss (Treatment):     0.3233\n",
      "INFO:causalml:Error metrics for group treatment\n",
      "INFO:causalml:     AUC   (Control):     0.9759\n",
      "INFO:causalml:     AUC (Treatment):     0.9880\n",
      "INFO:causalml:Log Loss   (Control):     0.2440\n",
      "INFO:causalml:Log Loss (Treatment):     0.2052\n",
      "INFO:causalml:Error metrics for group treatment\n",
      "INFO:causalml:     AUC   (Control):     0.5323\n",
      "INFO:causalml:     AUC (Treatment):     0.5351\n",
      "INFO:causalml:Log Loss   (Control):     0.3904\n",
      "INFO:causalml:Log Loss (Treatment):     0.3233\n",
      "INFO:causalml:Error metrics for group treatment\n",
      "INFO:causalml:     AUC   (Control):     0.9759\n",
      "INFO:causalml:     AUC (Treatment):     0.9880\n",
      "INFO:causalml:Log Loss   (Control):     0.2440\n",
      "INFO:causalml:Log Loss (Treatment):     0.2052\n",
      "INFO:causalml:Error metrics for group treatment\n",
      "INFO:causalml:     AUC   (Control):     0.5323\n",
      "INFO:causalml:     AUC (Treatment):     0.5351\n",
      "INFO:causalml:Log Loss   (Control):     0.3904\n",
      "INFO:causalml:Log Loss (Treatment):     0.3233\n",
      "INFO:causalml:Error metrics for group treatment\n",
      "INFO:causalml:     AUC   (Control):     0.9759\n",
      "INFO:causalml:     AUC (Treatment):     0.9880\n",
      "INFO:causalml:Log Loss   (Control):     0.2440\n",
      "INFO:causalml:Log Loss (Treatment):     0.2052\n",
      "INFO:causalml:Error metrics for group treatment\n",
      "INFO:causalml:     AUC   (Control):     0.5323\n",
      "INFO:causalml:     AUC (Treatment):     0.5351\n",
      "INFO:causalml:Log Loss   (Control):     0.3904\n",
      "INFO:causalml:Log Loss (Treatment):     0.3233\n",
      "INFO:causalml:Error metrics for group treatment\n",
      "INFO:causalml:     AUC   (Control):     0.9759\n",
      "INFO:causalml:     AUC (Treatment):     0.9880\n",
      "INFO:causalml:Log Loss   (Control):     0.2440\n",
      "INFO:causalml:Log Loss (Treatment):     0.2052\n",
      "INFO:causalml:Error metrics for group treatment\n",
      "INFO:causalml:     AUC   (Control):     0.5323\n",
      "INFO:causalml:     AUC (Treatment):     0.5351\n",
      "INFO:causalml:Log Loss   (Control):     0.3904\n",
      "INFO:causalml:Log Loss (Treatment):     0.3233\n",
      "INFO:causalml:Error metrics for group treatment\n",
      "INFO:causalml:     AUC   (Control):     0.9759\n",
      "INFO:causalml:     AUC (Treatment):     0.9880\n",
      "INFO:causalml:Log Loss   (Control):     0.2440\n",
      "INFO:causalml:Log Loss (Treatment):     0.2052\n",
      "INFO:causalml:Error metrics for group treatment\n",
      "INFO:causalml:     AUC   (Control):     0.5402\n",
      "INFO:causalml:     AUC (Treatment):     0.5087\n",
      "INFO:causalml:Log Loss   (Control):     0.3901\n",
      "INFO:causalml:Log Loss (Treatment):     0.3245\n",
      "INFO:causalml:Error metrics for group treatment\n",
      "INFO:causalml:     AUC   (Control):     0.9805\n",
      "INFO:causalml:     AUC (Treatment):     0.9902\n",
      "INFO:causalml:Log Loss   (Control):     0.2564\n",
      "INFO:causalml:Log Loss (Treatment):     0.2153\n"
     ]
    }
   ],
   "source": [
    "res_df = pd.DataFrame({'num_features': np.arange(10, 260, 20), 'ERMSE': np.arange(13), 'IF-PEHE': np.arange(13)})\n",
    "\n",
    "\n",
    "for i in range(10, 250, 10):\n",
    "    features = list(f_imp.loc[f_imp['rank'] <= i, 'feature'])\n",
    "    x_temp_tr = df_train0[features]\n",
    "    x_temp_te = df_test0[features]\n",
    "    learner_srf = BaseSClassifier(learner=RandomForestClassifier(max_depth=6, random_state=1105), control_name='control')\n",
    "    learner_srf.fit(X=x_temp_tr,treatment=df_train0['treatment'],y=df_train0['adrd'])\n",
    "    cate_srf = learner_srf.predict(X=x_temp_te, treatment=df_test0['treatment'], y=df_test0['adrd'])\n",
    "    \n",
    "    test_learner_srf = BaseSClassifier(learner=RandomForestClassifier(max_depth=6, random_state=1105), control_name='control')\n",
    "    test_cate_srf = test_learner_srf.fit_predict(X=x_temp_te,\n",
    "                treatment=df_test0['treatment'], y=df_test0['adrd'])\n",
    "    \n",
    "    res_df.loc[res_df['num_features'] == i, 'ERMSE'] = ((cate_srf-test_cate_srf)**2).mean()**(1/2)\n",
    "    \n",
    "    cate_srf = learner_srf.predict(X=x_temp_te, treatment=treatment_test)\n",
    "    cate = cate_srf.flatten()\n",
    "    plug_in = (t_plugin-cate)**2\n",
    "    l_de = (ident - b) * t_plugin**2 + b*y_test*(t_plugin - cate) + (- a*(t_plugin - cate)**2 + cate**2)\n",
    "    res_df.loc[res_df['num_features'] == i, 'IF-PEHE'] = (np.sum(l_de) + np.sum(plug_in))\n",
    "    \n",
    "# Add the evaluation of all features\n",
    "learner_srf = BaseSClassifier(learner=RandomForestClassifier(max_depth=6, random_state=1105), control_name='control')\n",
    "learner_srf.fit(X=x_train0,treatment=df_train0['treatment'],y=df_train0['adrd'])\n",
    "cate_srf = learner_srf.predict(X=x_test0, treatment=df_test0['treatment'], y=df_test0['adrd'])\n",
    "    \n",
    "test_learner_srf = BaseSClassifier(learner=RandomForestClassifier(max_depth=6, random_state=1105), control_name='control')\n",
    "test_cate_srf = test_learner_srf.fit_predict(X=x_test0,treatment=df_test0['treatment'], y=df_test0['adrd'])\n",
    "\n",
    "res_df.iloc[12, 0] = 249\n",
    "res_df.iloc[12, 1] = ((cate_srf-test_cate_srf)**2).mean()**(1/2)\n",
    "cate_srf = learner_srf.predict(X=x_test0, treatment=treatment_test)\n",
    "\n",
    "cate = cate_srf.flatten()\n",
    "plug_in = (t_plugin-cate)**2\n",
    "l_de = (ident - b) * t_plugin**2 + b*y_test*(t_plugin - cate) + (- a*(t_plugin - cate)**2 + cate**2)\n",
    "res_df.iloc[12, 2] = (np.sum(l_de) + np.sum(plug_in))"
   ]
  },
  {
   "cell_type": "code",
   "execution_count": null,
   "metadata": {},
   "outputs": [],
   "source": [
    "plt.plot(res_df['num_features'], res_df['ERMSE'])\n",
    "plt.xlabel('Number of features')\n",
    "plt.ylabel('ERMSE')"
   ]
  },
  {
   "cell_type": "code",
   "execution_count": 177,
   "metadata": {},
   "outputs": [
    {
     "data": {
      "text/plain": [
       "[<matplotlib.lines.Line2D at 0x7f71cd5b5c50>]"
      ]
     },
     "execution_count": 177,
     "metadata": {},
     "output_type": "execute_result"
    },
    {
     "data": {
      "image/png": "[encoded data removed]",
      "text/plain": [
       "<Figure size 432x288 with 1 Axes>"
      ]
     },
     "metadata": {},
     "output_type": "display_data"
    }
   ],
   "source": [
    "plt.plot(res_df['num_features'], res_df['IF-PEHE'])\n",
    "plt.xlabel('Number of features')\n",
    "plt.ylabel('PEHE')"
   ]
  },
  {
   "cell_type": "code",
   "execution_count": 178,
   "metadata": {},
   "outputs": [
    {
     "name": "stderr",
     "output_type": "stream",
     "text": [
      "INFO:causalml:Error metrics for group treatment\n",
      "INFO:causalml:     AUC   (Control):     0.5269\n",
      "INFO:causalml:     AUC (Treatment):     0.5477\n",
      "INFO:causalml:Log Loss   (Control):     0.3908\n",
      "INFO:causalml:Log Loss (Treatment):     0.3222\n",
      "INFO:causalml:Error metrics for group treatment\n",
      "INFO:causalml:     AUC   (Control):     0.9530\n",
      "INFO:causalml:     AUC (Treatment):     0.9524\n",
      "INFO:causalml:Log Loss   (Control):     0.3004\n",
      "INFO:causalml:Log Loss (Treatment):     0.2567\n",
      "INFO:causalml:Error metrics for group treatment\n",
      "INFO:causalml:     AUC   (Control):     0.5289\n",
      "INFO:causalml:     AUC (Treatment):     0.6199\n",
      "INFO:causalml:Log Loss   (Control):     0.3898\n",
      "INFO:causalml:Log Loss (Treatment):     0.3197\n",
      "INFO:causalml:Error metrics for group treatment\n",
      "INFO:causalml:     AUC   (Control):     0.9497\n",
      "INFO:causalml:     AUC (Treatment):     0.9529\n",
      "INFO:causalml:Log Loss   (Control):     0.3048\n",
      "INFO:causalml:Log Loss (Treatment):     0.2575\n",
      "INFO:causalml:Error metrics for group treatment\n",
      "INFO:causalml:     AUC   (Control):     0.5183\n",
      "INFO:causalml:     AUC (Treatment):     0.5454\n",
      "INFO:causalml:Log Loss   (Control):     0.3909\n",
      "INFO:causalml:Log Loss (Treatment):     0.3220\n",
      "INFO:causalml:Error metrics for group treatment\n",
      "INFO:causalml:     AUC   (Control):     0.9531\n",
      "INFO:causalml:     AUC (Treatment):     0.9565\n",
      "INFO:causalml:Log Loss   (Control):     0.3032\n",
      "INFO:causalml:Log Loss (Treatment):     0.2577\n",
      "INFO:causalml:Error metrics for group treatment\n",
      "INFO:causalml:     AUC   (Control):     0.5189\n",
      "INFO:causalml:     AUC (Treatment):     0.5434\n",
      "INFO:causalml:Log Loss   (Control):     0.3908\n",
      "INFO:causalml:Log Loss (Treatment):     0.3230\n",
      "INFO:causalml:Error metrics for group treatment\n",
      "INFO:causalml:     AUC   (Control):     0.9526\n",
      "INFO:causalml:     AUC (Treatment):     0.9507\n",
      "INFO:causalml:Log Loss   (Control):     0.3019\n",
      "INFO:causalml:Log Loss (Treatment):     0.2553\n",
      "INFO:causalml:Error metrics for group treatment\n",
      "INFO:causalml:     AUC   (Control):     0.5097\n",
      "INFO:causalml:     AUC (Treatment):     0.5434\n",
      "INFO:causalml:Log Loss   (Control):     0.3920\n",
      "INFO:causalml:Log Loss (Treatment):     0.3220\n",
      "INFO:causalml:Error metrics for group treatment\n",
      "INFO:causalml:     AUC   (Control):     0.9525\n",
      "INFO:causalml:     AUC (Treatment):     0.9477\n",
      "INFO:causalml:Log Loss   (Control):     0.3051\n",
      "INFO:causalml:Log Loss (Treatment):     0.2592\n",
      "INFO:causalml:Error metrics for group treatment\n",
      "INFO:causalml:     AUC   (Control):     0.5284\n",
      "INFO:causalml:     AUC (Treatment):     0.4779\n",
      "INFO:causalml:Log Loss   (Control):     0.3907\n",
      "INFO:causalml:Log Loss (Treatment):     0.3232\n",
      "INFO:causalml:Error metrics for group treatment\n",
      "INFO:causalml:     AUC   (Control):     0.9513\n",
      "INFO:causalml:     AUC (Treatment):     0.9511\n",
      "INFO:causalml:Log Loss   (Control):     0.3026\n",
      "INFO:causalml:Log Loss (Treatment):     0.2558\n",
      "INFO:causalml:Error metrics for group treatment\n",
      "INFO:causalml:     AUC   (Control):     0.5381\n",
      "INFO:causalml:     AUC (Treatment):     0.5113\n",
      "INFO:causalml:Log Loss   (Control):     0.3896\n",
      "INFO:causalml:Log Loss (Treatment):     0.3220\n",
      "INFO:causalml:Error metrics for group treatment\n",
      "INFO:causalml:     AUC   (Control):     0.9613\n",
      "INFO:causalml:     AUC (Treatment):     0.9417\n",
      "INFO:causalml:Log Loss   (Control):     0.3002\n",
      "INFO:causalml:Log Loss (Treatment):     0.2604\n",
      "INFO:causalml:Error metrics for group treatment\n",
      "INFO:causalml:     AUC   (Control):     0.5140\n",
      "INFO:causalml:     AUC (Treatment):     0.5379\n",
      "INFO:causalml:Log Loss   (Control):     0.3914\n",
      "INFO:causalml:Log Loss (Treatment):     0.3225\n",
      "INFO:causalml:Error metrics for group treatment\n",
      "INFO:causalml:     AUC   (Control):     0.9582\n",
      "INFO:causalml:     AUC (Treatment):     0.9499\n",
      "INFO:causalml:Log Loss   (Control):     0.3000\n",
      "INFO:causalml:Log Loss (Treatment):     0.2558\n",
      "INFO:causalml:Error metrics for group treatment\n",
      "INFO:causalml:     AUC   (Control):     0.5479\n",
      "INFO:causalml:     AUC (Treatment):     0.5043\n",
      "INFO:causalml:Log Loss   (Control):     0.3904\n",
      "INFO:causalml:Log Loss (Treatment):     0.3235\n",
      "INFO:causalml:Error metrics for group treatment\n",
      "INFO:causalml:     AUC   (Control):     0.9530\n",
      "INFO:causalml:     AUC (Treatment):     0.9519\n",
      "INFO:causalml:Log Loss   (Control):     0.3020\n",
      "INFO:causalml:Log Loss (Treatment):     0.2571\n",
      "INFO:causalml:Error metrics for group treatment\n",
      "INFO:causalml:     AUC   (Control):     0.5604\n",
      "INFO:causalml:     AUC (Treatment):     0.5354\n",
      "INFO:causalml:Log Loss   (Control):     0.3898\n",
      "INFO:causalml:Log Loss (Treatment):     0.3226\n",
      "INFO:causalml:Error metrics for group treatment\n",
      "INFO:causalml:     AUC   (Control):     0.9573\n",
      "INFO:causalml:     AUC (Treatment):     0.9501\n",
      "INFO:causalml:Log Loss   (Control):     0.3012\n",
      "INFO:causalml:Log Loss (Treatment):     0.2565\n",
      "INFO:causalml:Error metrics for group treatment\n",
      "INFO:causalml:     AUC   (Control):     0.5316\n",
      "INFO:causalml:     AUC (Treatment):     0.5836\n",
      "INFO:causalml:Log Loss   (Control):     0.3898\n",
      "INFO:causalml:Log Loss (Treatment):     0.3206\n",
      "INFO:causalml:Error metrics for group treatment\n",
      "INFO:causalml:     AUC   (Control):     0.9592\n",
      "INFO:causalml:     AUC (Treatment):     0.9842\n",
      "INFO:causalml:Log Loss   (Control):     0.2746\n",
      "INFO:causalml:Log Loss (Treatment):     0.2190\n",
      "INFO:causalml:Error metrics for group treatment\n",
      "INFO:causalml:     AUC   (Control):     0.5357\n",
      "INFO:causalml:     AUC (Treatment):     0.5783\n",
      "INFO:causalml:Log Loss   (Control):     0.3901\n",
      "INFO:causalml:Log Loss (Treatment):     0.3210\n",
      "INFO:causalml:Error metrics for group treatment\n",
      "INFO:causalml:     AUC   (Control):     0.9600\n",
      "INFO:causalml:     AUC (Treatment):     0.9812\n",
      "INFO:causalml:Log Loss   (Control):     0.2780\n",
      "INFO:causalml:Log Loss (Treatment):     0.2245\n",
      "INFO:causalml:Error metrics for group treatment\n",
      "INFO:causalml:     AUC   (Control):     0.5349\n",
      "INFO:causalml:     AUC (Treatment):     0.5146\n",
      "INFO:causalml:Log Loss   (Control):     0.3906\n",
      "INFO:causalml:Log Loss (Treatment):     0.3216\n",
      "INFO:causalml:Error metrics for group treatment\n",
      "INFO:causalml:     AUC   (Control):     0.9594\n",
      "INFO:causalml:     AUC (Treatment):     0.9871\n",
      "INFO:causalml:Log Loss   (Control):     0.2784\n",
      "INFO:causalml:Log Loss (Treatment):     0.2223\n",
      "INFO:causalml:Error metrics for group treatment\n",
      "INFO:causalml:     AUC   (Control):     0.5349\n",
      "INFO:causalml:     AUC (Treatment):     0.5146\n",
      "INFO:causalml:Log Loss   (Control):     0.3906\n",
      "INFO:causalml:Log Loss (Treatment):     0.3216\n",
      "INFO:causalml:Error metrics for group treatment\n",
      "INFO:causalml:     AUC   (Control):     0.9594\n",
      "INFO:causalml:     AUC (Treatment):     0.9871\n",
      "INFO:causalml:Log Loss   (Control):     0.2784\n",
      "INFO:causalml:Log Loss (Treatment):     0.2223\n",
      "INFO:causalml:Error metrics for group treatment\n",
      "INFO:causalml:     AUC   (Control):     0.5349\n",
      "INFO:causalml:     AUC (Treatment):     0.5146\n",
      "INFO:causalml:Log Loss   (Control):     0.3906\n",
      "INFO:causalml:Log Loss (Treatment):     0.3216\n",
      "INFO:causalml:Error metrics for group treatment\n",
      "INFO:causalml:     AUC   (Control):     0.9594\n",
      "INFO:causalml:     AUC (Treatment):     0.9871\n",
      "INFO:causalml:Log Loss   (Control):     0.2784\n",
      "INFO:causalml:Log Loss (Treatment):     0.2223\n",
      "INFO:causalml:Error metrics for group treatment\n",
      "INFO:causalml:     AUC   (Control):     0.5349\n",
      "INFO:causalml:     AUC (Treatment):     0.5146\n",
      "INFO:causalml:Log Loss   (Control):     0.3906\n",
      "INFO:causalml:Log Loss (Treatment):     0.3216\n",
      "INFO:causalml:Error metrics for group treatment\n",
      "INFO:causalml:     AUC   (Control):     0.9594\n",
      "INFO:causalml:     AUC (Treatment):     0.9871\n",
      "INFO:causalml:Log Loss   (Control):     0.2784\n",
      "INFO:causalml:Log Loss (Treatment):     0.2223\n",
      "INFO:causalml:Error metrics for group treatment\n",
      "INFO:causalml:     AUC   (Control):     0.5349\n",
      "INFO:causalml:     AUC (Treatment):     0.5146\n",
      "INFO:causalml:Log Loss   (Control):     0.3906\n",
      "INFO:causalml:Log Loss (Treatment):     0.3216\n",
      "INFO:causalml:Error metrics for group treatment\n",
      "INFO:causalml:     AUC   (Control):     0.9594\n",
      "INFO:causalml:     AUC (Treatment):     0.9871\n",
      "INFO:causalml:Log Loss   (Control):     0.2784\n",
      "INFO:causalml:Log Loss (Treatment):     0.2223\n",
      "INFO:causalml:Error metrics for group treatment\n",
      "INFO:causalml:     AUC   (Control):     0.5349\n",
      "INFO:causalml:     AUC (Treatment):     0.5146\n",
      "INFO:causalml:Log Loss   (Control):     0.3906\n"
     ]
    },
    {
     "name": "stderr",
     "output_type": "stream",
     "text": [
      "INFO:causalml:Log Loss (Treatment):     0.3216\n",
      "INFO:causalml:Error metrics for group treatment\n",
      "INFO:causalml:     AUC   (Control):     0.9594\n",
      "INFO:causalml:     AUC (Treatment):     0.9871\n",
      "INFO:causalml:Log Loss   (Control):     0.2784\n",
      "INFO:causalml:Log Loss (Treatment):     0.2223\n",
      "INFO:causalml:Error metrics for group treatment\n",
      "INFO:causalml:     AUC   (Control):     0.5349\n",
      "INFO:causalml:     AUC (Treatment):     0.5146\n",
      "INFO:causalml:Log Loss   (Control):     0.3906\n",
      "INFO:causalml:Log Loss (Treatment):     0.3216\n",
      "INFO:causalml:Error metrics for group treatment\n",
      "INFO:causalml:     AUC   (Control):     0.9594\n",
      "INFO:causalml:     AUC (Treatment):     0.9871\n",
      "INFO:causalml:Log Loss   (Control):     0.2784\n",
      "INFO:causalml:Log Loss (Treatment):     0.2223\n",
      "INFO:causalml:Error metrics for group treatment\n",
      "INFO:causalml:     AUC   (Control):     0.5349\n",
      "INFO:causalml:     AUC (Treatment):     0.5146\n",
      "INFO:causalml:Log Loss   (Control):     0.3906\n",
      "INFO:causalml:Log Loss (Treatment):     0.3216\n",
      "INFO:causalml:Error metrics for group treatment\n",
      "INFO:causalml:     AUC   (Control):     0.9594\n",
      "INFO:causalml:     AUC (Treatment):     0.9871\n",
      "INFO:causalml:Log Loss   (Control):     0.2784\n",
      "INFO:causalml:Log Loss (Treatment):     0.2223\n",
      "INFO:causalml:Error metrics for group treatment\n",
      "INFO:causalml:     AUC   (Control):     0.5402\n",
      "INFO:causalml:     AUC (Treatment):     0.5087\n",
      "INFO:causalml:Log Loss   (Control):     0.3901\n",
      "INFO:causalml:Log Loss (Treatment):     0.3245\n",
      "INFO:causalml:Error metrics for group treatment\n",
      "INFO:causalml:     AUC   (Control):     0.9805\n",
      "INFO:causalml:     AUC (Treatment):     0.9902\n",
      "INFO:causalml:Log Loss   (Control):     0.2564\n",
      "INFO:causalml:Log Loss (Treatment):     0.2153\n"
     ]
    }
   ],
   "source": [
    "res_df2 = pd.DataFrame({'num_features': np.arange(70, 112, 2), 'ERMSE': np.arange(21), 'IF-PEHE': np.arange(21)})\n",
    "\n",
    "\n",
    "for i in range(70, 110, 2):\n",
    "    features = list(f_imp.loc[f_imp['rank'] <= i, 'feature'])\n",
    "    x_temp_tr = df_train0[features]\n",
    "    x_temp_te = df_test0[features]\n",
    "    learner_srf = BaseSClassifier(learner=RandomForestClassifier(max_depth=6, random_state=1105), control_name='control')\n",
    "    learner_srf.fit(X=x_temp_tr,treatment=df_train0['treatment'],y=df_train0['adrd'])\n",
    "    cate_srf = learner_srf.predict(X=x_temp_te, treatment=df_test0['treatment'], y=df_test0['adrd'])\n",
    "    \n",
    "    test_learner_srf = BaseSClassifier(learner=RandomForestClassifier(max_depth=6, random_state=1105), control_name='control')\n",
    "    test_cate_srf = test_learner_srf.fit_predict(X=x_temp_te,\n",
    "                treatment=df_test0['treatment'], y=df_test0['adrd'])\n",
    "    \n",
    "    res_df2.loc[res_df2['num_features'] == i, 'ERMSE'] = ((cate_srf-test_cate_srf)**2).mean()**(1/2)\n",
    "    \n",
    "    cate_srf = learner_srf.predict(X=x_temp_te, treatment=treatment_test)\n",
    "    cate = cate_srf.flatten()\n",
    "    plug_in = (t_plugin-cate)**2\n",
    "    l_de = (ident - b) * t_plugin**2 + b*y_test*(t_plugin - cate) + (- a*(t_plugin - cate)**2 + cate**2)\n",
    "    res_df2.loc[res_df2['num_features'] == i, 'IF-PEHE'] = (np.sum(l_de) + np.sum(plug_in))\n",
    "    \n",
    "# Add the evaluation of all features\n",
    "learner_srf = BaseSClassifier(learner=RandomForestClassifier(max_depth=6, random_state=1105), control_name='control')\n",
    "learner_srf.fit(X=x_train0,treatment=df_train0['treatment'],y=df_train0['adrd'])\n",
    "cate_srf = learner_srf.predict(X=x_test0, treatment=df_test0['treatment'], y=df_test0['adrd'])\n",
    "    \n",
    "test_learner_srf = BaseSClassifier(learner=RandomForestClassifier(max_depth=6, random_state=1105), control_name='control')\n",
    "test_cate_srf = test_learner_srf.fit_predict(X=x_test0,treatment=df_test0['treatment'], y=df_test0['adrd'])\n",
    "\n",
    "res_df2.iloc[20, 0] = 249\n",
    "res_df2.iloc[20, 1] = ((cate_srf-test_cate_srf)**2).mean()**(1/2)\n",
    "cate_srf = learner_srf.predict(X=x_test0, treatment=treatment_test)\n",
    "\n",
    "cate = cate_srf.flatten()\n",
    "plug_in = (t_plugin-cate)**2\n",
    "l_de = (ident - b) * t_plugin**2 + b*y_test*(t_plugin - cate) + (- a*(t_plugin - cate)**2 + cate**2)\n",
    "res_df2.iloc[20, 2] = (np.sum(l_de) + np.sum(plug_in))"
   ]
  },
  {
   "cell_type": "code",
   "execution_count": 179,
   "metadata": {},
   "outputs": [
    {
     "data": {
      "text/html": [
       "<div>\n",
       "<style scoped>\n",
       "    .dataframe tbody tr th:only-of-type {\n",
       "        vertical-align: middle;\n",
       "    }\n",
       "\n",
       "    .dataframe tbody tr th {\n",
       "        vertical-align: top;\n",
       "    }\n",
       "\n",
       "    .dataframe thead th {\n",
       "        text-align: right;\n",
       "    }\n",
       "</style>\n",
       "<table border=\"1\" class=\"dataframe\">\n",
       "  <thead>\n",
       "    <tr style=\"text-align: right;\">\n",
       "      <th></th>\n",
       "      <th>num_features</th>\n",
       "      <th>ERMSE</th>\n",
       "      <th>IF-PEHE</th>\n",
       "    </tr>\n",
       "  </thead>\n",
       "  <tbody>\n",
       "    <tr>\n",
       "      <th>0</th>\n",
       "      <td>70</td>\n",
       "      <td>0.004792</td>\n",
       "      <td>10.081971</td>\n",
       "    </tr>\n",
       "    <tr>\n",
       "      <th>1</th>\n",
       "      <td>72</td>\n",
       "      <td>0.004150</td>\n",
       "      <td>10.283270</td>\n",
       "    </tr>\n",
       "    <tr>\n",
       "      <th>2</th>\n",
       "      <td>74</td>\n",
       "      <td>0.003434</td>\n",
       "      <td>10.150499</td>\n",
       "    </tr>\n",
       "    <tr>\n",
       "      <th>3</th>\n",
       "      <td>76</td>\n",
       "      <td>0.005311</td>\n",
       "      <td>10.632740</td>\n",
       "    </tr>\n",
       "    <tr>\n",
       "      <th>4</th>\n",
       "      <td>78</td>\n",
       "      <td>0.003891</td>\n",
       "      <td>10.078368</td>\n",
       "    </tr>\n",
       "    <tr>\n",
       "      <th>5</th>\n",
       "      <td>80</td>\n",
       "      <td>0.004787</td>\n",
       "      <td>9.893717</td>\n",
       "    </tr>\n",
       "    <tr>\n",
       "      <th>6</th>\n",
       "      <td>82</td>\n",
       "      <td>0.003555</td>\n",
       "      <td>10.159403</td>\n",
       "    </tr>\n",
       "    <tr>\n",
       "      <th>7</th>\n",
       "      <td>84</td>\n",
       "      <td>0.002799</td>\n",
       "      <td>9.854576</td>\n",
       "    </tr>\n",
       "    <tr>\n",
       "      <th>8</th>\n",
       "      <td>86</td>\n",
       "      <td>0.003162</td>\n",
       "      <td>10.060695</td>\n",
       "    </tr>\n",
       "    <tr>\n",
       "      <th>9</th>\n",
       "      <td>88</td>\n",
       "      <td>0.004060</td>\n",
       "      <td>9.962977</td>\n",
       "    </tr>\n",
       "    <tr>\n",
       "      <th>10</th>\n",
       "      <td>90</td>\n",
       "      <td>0.003586</td>\n",
       "      <td>9.825497</td>\n",
       "    </tr>\n",
       "    <tr>\n",
       "      <th>11</th>\n",
       "      <td>92</td>\n",
       "      <td>0.003417</td>\n",
       "      <td>10.245596</td>\n",
       "    </tr>\n",
       "    <tr>\n",
       "      <th>12</th>\n",
       "      <td>94</td>\n",
       "      <td>0.004338</td>\n",
       "      <td>10.486970</td>\n",
       "    </tr>\n",
       "    <tr>\n",
       "      <th>13</th>\n",
       "      <td>96</td>\n",
       "      <td>0.004338</td>\n",
       "      <td>10.486970</td>\n",
       "    </tr>\n",
       "    <tr>\n",
       "      <th>14</th>\n",
       "      <td>98</td>\n",
       "      <td>0.004338</td>\n",
       "      <td>10.486970</td>\n",
       "    </tr>\n",
       "    <tr>\n",
       "      <th>15</th>\n",
       "      <td>100</td>\n",
       "      <td>0.004338</td>\n",
       "      <td>10.486970</td>\n",
       "    </tr>\n",
       "    <tr>\n",
       "      <th>16</th>\n",
       "      <td>102</td>\n",
       "      <td>0.004338</td>\n",
       "      <td>10.486970</td>\n",
       "    </tr>\n",
       "    <tr>\n",
       "      <th>17</th>\n",
       "      <td>104</td>\n",
       "      <td>0.004338</td>\n",
       "      <td>10.486970</td>\n",
       "    </tr>\n",
       "    <tr>\n",
       "      <th>18</th>\n",
       "      <td>106</td>\n",
       "      <td>0.004338</td>\n",
       "      <td>10.486970</td>\n",
       "    </tr>\n",
       "    <tr>\n",
       "      <th>19</th>\n",
       "      <td>108</td>\n",
       "      <td>0.004338</td>\n",
       "      <td>10.486970</td>\n",
       "    </tr>\n",
       "    <tr>\n",
       "      <th>20</th>\n",
       "      <td>249</td>\n",
       "      <td>0.002883</td>\n",
       "      <td>9.816688</td>\n",
       "    </tr>\n",
       "  </tbody>\n",
       "</table>\n",
       "</div>"
      ],
      "text/plain": [
       "    num_features     ERMSE    IF-PEHE\n",
       "0             70  0.004792  10.081971\n",
       "1             72  0.004150  10.283270\n",
       "2             74  0.003434  10.150499\n",
       "3             76  0.005311  10.632740\n",
       "4             78  0.003891  10.078368\n",
       "5             80  0.004787   9.893717\n",
       "6             82  0.003555  10.159403\n",
       "7             84  0.002799   9.854576\n",
       "8             86  0.003162  10.060695\n",
       "9             88  0.004060   9.962977\n",
       "10            90  0.003586   9.825497\n",
       "11            92  0.003417  10.245596\n",
       "12            94  0.004338  10.486970\n",
       "13            96  0.004338  10.486970\n",
       "14            98  0.004338  10.486970\n",
       "15           100  0.004338  10.486970\n",
       "16           102  0.004338  10.486970\n",
       "17           104  0.004338  10.486970\n",
       "18           106  0.004338  10.486970\n",
       "19           108  0.004338  10.486970\n",
       "20           249  0.002883   9.816688"
      ]
     },
     "execution_count": 179,
     "metadata": {},
     "output_type": "execute_result"
    }
   ],
   "source": [
    "res_df2"
   ]
  },
  {
   "cell_type": "code",
   "execution_count": 126,
   "metadata": {},
   "outputs": [
    {
     "name": "stderr",
     "output_type": "stream",
     "text": [
      "INFO:causalml:Error metrics for group treatment\n",
      "INFO:causalml:     AUC   (Control):     0.5381\n",
      "INFO:causalml:     AUC (Treatment):     0.5113\n",
      "INFO:causalml:Log Loss   (Control):     0.3896\n",
      "INFO:causalml:Log Loss (Treatment):     0.3220\n",
      "INFO:causalml:Error metrics for group treatment\n",
      "INFO:causalml:     AUC   (Control):     0.9613\n",
      "INFO:causalml:     AUC (Treatment):     0.9417\n",
      "INFO:causalml:Log Loss   (Control):     0.3002\n",
      "INFO:causalml:Log Loss (Treatment):     0.2604\n",
      "INFO:causalml:Error metrics for group treatment\n",
      "INFO:causalml:     AUC   (Control):     0.5045\n",
      "INFO:causalml:     AUC (Treatment):     0.5646\n",
      "INFO:causalml:Log Loss   (Control):     0.3916\n",
      "INFO:causalml:Log Loss (Treatment):     0.3215\n",
      "INFO:causalml:Error metrics for group treatment\n",
      "INFO:causalml:     AUC   (Control):     0.9550\n",
      "INFO:causalml:     AUC (Treatment):     0.9500\n",
      "INFO:causalml:Log Loss   (Control):     0.3020\n",
      "INFO:causalml:Log Loss (Treatment):     0.2566\n",
      "INFO:causalml:Error metrics for group treatment\n",
      "INFO:causalml:     AUC   (Control):     0.5140\n",
      "INFO:causalml:     AUC (Treatment):     0.5379\n",
      "INFO:causalml:Log Loss   (Control):     0.3914\n",
      "INFO:causalml:Log Loss (Treatment):     0.3225\n",
      "INFO:causalml:Error metrics for group treatment\n",
      "INFO:causalml:     AUC   (Control):     0.9582\n",
      "INFO:causalml:     AUC (Treatment):     0.9499\n",
      "INFO:causalml:Log Loss   (Control):     0.3000\n",
      "INFO:causalml:Log Loss (Treatment):     0.2558\n",
      "INFO:causalml:Error metrics for group treatment\n",
      "INFO:causalml:     AUC   (Control):     0.5220\n",
      "INFO:causalml:     AUC (Treatment):     0.5936\n",
      "INFO:causalml:Log Loss   (Control):     0.3905\n",
      "INFO:causalml:Log Loss (Treatment):     0.3218\n",
      "INFO:causalml:Error metrics for group treatment\n",
      "INFO:causalml:     AUC   (Control):     0.9546\n",
      "INFO:causalml:     AUC (Treatment):     0.9611\n",
      "INFO:causalml:Log Loss   (Control):     0.3014\n",
      "INFO:causalml:Log Loss (Treatment):     0.2525\n"
     ]
    }
   ],
   "source": [
    "res_df = pd.DataFrame({'num_features': np.arange(82, 86, 1), 'ERMSE': np.arange(4), 'IF-PEHE': np.arange(4)})\n",
    "\n",
    "\n",
    "for i in range(82, 86, 1):\n",
    "    features = list(f_imp.loc[f_imp['rank'] <= i, 'feature'])\n",
    "    x_temp_tr = df_train0[features]\n",
    "    x_temp_te = df_test0[features]\n",
    "    learner_srf = BaseSClassifier(learner=RandomForestClassifier(max_depth=6, random_state=1105), control_name='control')\n",
    "    learner_srf.fit(X=x_temp_tr,treatment=df_train0['treatment'],y=df_train0['adrd'])\n",
    "    cate_srf = learner_srf.predict(X=x_temp_te, treatment=df_test0['treatment'], y=df_test0['adrd'])\n",
    "    \n",
    "    test_learner_srf = BaseSClassifier(learner=RandomForestClassifier(max_depth=6, random_state=1105), control_name='control')\n",
    "    test_cate_srf = test_learner_srf.fit_predict(X=x_temp_te,\n",
    "                treatment=df_test0['treatment'], y=df_test0['adrd'])\n",
    "    \n",
    "    res_df.loc[res_df['num_features'] == i, 'ERMSE'] = ((cate_srf-test_cate_srf)**2).mean()**(1/2)\n",
    "    \n",
    "    cate_srf = learner_srf.predict(X=x_temp_te, treatment=treatment_test)\n",
    "    cate = cate_srf.flatten()\n",
    "    plug_in = (t_plugin-cate)**2\n",
    "    l_de = (ident - b) * t_plugin**2 + b*y_test*(t_plugin - cate) + (- a*(t_plugin - cate)**2 + cate**2)\n",
    "    res_df.loc[res_df['num_features'] == i, 'IF-PEHE'] = (np.sum(l_de) + np.sum(plug_in))"
   ]
  },
  {
   "cell_type": "code",
   "execution_count": 127,
   "metadata": {},
   "outputs": [
    {
     "data": {
      "text/html": [
       "<div>\n",
       "<style scoped>\n",
       "    .dataframe tbody tr th:only-of-type {\n",
       "        vertical-align: middle;\n",
       "    }\n",
       "\n",
       "    .dataframe tbody tr th {\n",
       "        vertical-align: top;\n",
       "    }\n",
       "\n",
       "    .dataframe thead th {\n",
       "        text-align: right;\n",
       "    }\n",
       "</style>\n",
       "<table border=\"1\" class=\"dataframe\">\n",
       "  <thead>\n",
       "    <tr style=\"text-align: right;\">\n",
       "      <th></th>\n",
       "      <th>num_features</th>\n",
       "      <th>ERMSE</th>\n",
       "      <th>IF-PEHE</th>\n",
       "    </tr>\n",
       "  </thead>\n",
       "  <tbody>\n",
       "    <tr>\n",
       "      <th>0</th>\n",
       "      <td>82</td>\n",
       "      <td>0.003555</td>\n",
       "      <td>64.103759</td>\n",
       "    </tr>\n",
       "    <tr>\n",
       "      <th>1</th>\n",
       "      <td>83</td>\n",
       "      <td>0.003515</td>\n",
       "      <td>22.700056</td>\n",
       "    </tr>\n",
       "    <tr>\n",
       "      <th>2</th>\n",
       "      <td>84</td>\n",
       "      <td>0.002799</td>\n",
       "      <td>49.889919</td>\n",
       "    </tr>\n",
       "    <tr>\n",
       "      <th>3</th>\n",
       "      <td>85</td>\n",
       "      <td>0.003410</td>\n",
       "      <td>60.334229</td>\n",
       "    </tr>\n",
       "  </tbody>\n",
       "</table>\n",
       "</div>"
      ],
      "text/plain": [
       "   num_features     ERMSE    IF-PEHE\n",
       "0            82  0.003555  64.103759\n",
       "1            83  0.003515  22.700056\n",
       "2            84  0.002799  49.889919\n",
       "3            85  0.003410  60.334229"
      ]
     },
     "execution_count": 127,
     "metadata": {},
     "output_type": "execute_result"
    }
   ],
   "source": [
    "res_df"
   ]
  },
  {
   "cell_type": "markdown",
   "metadata": {},
   "source": [
    "### ED"
   ]
  },
  {
   "cell_type": "code",
   "execution_count": 29,
   "metadata": {},
   "outputs": [],
   "source": [
    "method = 'ED'\n",
    "f_imp = filter_f.get_importance(df_train0, x_names, y_name, method, \n",
    "                      treatment_group = 'treatment')"
   ]
  },
  {
   "cell_type": "code",
   "execution_count": 30,
   "metadata": {},
   "outputs": [
    {
     "name": "stdout",
     "output_type": "stream",
     "text": [
      "       method  feature   rank         score p_value               misc\n",
      "0   ED filter      122    1.0  1.642579e-03    None  number_of_bins: 4\n",
      "0   ED filter      182    2.0  1.208062e-03    None  number_of_bins: 3\n",
      "0   ED filter       42    3.0  1.182887e-03    None  number_of_bins: 2\n",
      "0   ED filter      201    4.0  1.146721e-03    None  number_of_bins: 3\n",
      "0   ED filter       67    5.0  1.111927e-03    None  number_of_bins: 3\n",
      "..        ...      ...    ...           ...     ...                ...\n",
      "0   ED filter      115  172.0  0.000000e+00    None  number_of_bins: 1\n",
      "0   ED filter      116  172.0  0.000000e+00    None  number_of_bins: 1\n",
      "0   ED filter      117  172.0  0.000000e+00    None  number_of_bins: 1\n",
      "0   ED filter      248  172.0  0.000000e+00    None  number_of_bins: 1\n",
      "0   ED filter      112  249.0 -1.019065e-07    None  number_of_bins: 2\n",
      "\n",
      "[249 rows x 6 columns]\n"
     ]
    }
   ],
   "source": [
    "print(f_imp)"
   ]
  },
  {
   "cell_type": "code",
   "execution_count": 31,
   "metadata": {},
   "outputs": [
    {
     "name": "stderr",
     "output_type": "stream",
     "text": [
      "INFO:causalml:Error metrics for group treatment\n",
      "INFO:causalml:     AUC   (Control):     0.5199\n",
      "INFO:causalml:     AUC (Treatment):     0.5562\n",
      "INFO:causalml:Log Loss   (Control):     0.3891\n",
      "INFO:causalml:Log Loss (Treatment):     0.3178\n",
      "INFO:causalml:Error metrics for group treatment\n",
      "INFO:causalml:     AUC   (Control):     0.8675\n",
      "INFO:causalml:     AUC (Treatment):     0.9152\n",
      "INFO:causalml:Log Loss   (Control):     0.3343\n",
      "INFO:causalml:Log Loss (Treatment):     0.2699\n",
      "INFO:causalml:Error metrics for group treatment\n",
      "INFO:causalml:     AUC   (Control):     0.5365\n",
      "INFO:causalml:     AUC (Treatment):     0.5962\n",
      "INFO:causalml:Log Loss   (Control):     0.3880\n",
      "INFO:causalml:Log Loss (Treatment):     0.3180\n",
      "INFO:causalml:Error metrics for group treatment\n",
      "INFO:causalml:     AUC   (Control):     0.8922\n",
      "INFO:causalml:     AUC (Treatment):     0.9040\n",
      "INFO:causalml:Log Loss   (Control):     0.3199\n",
      "INFO:causalml:Log Loss (Treatment):     0.2683\n",
      "INFO:causalml:Error metrics for group treatment\n",
      "INFO:causalml:     AUC   (Control):     0.5178\n",
      "INFO:causalml:     AUC (Treatment):     0.5593\n",
      "INFO:causalml:Log Loss   (Control):     0.3892\n",
      "INFO:causalml:Log Loss (Treatment):     0.3200\n",
      "INFO:causalml:Error metrics for group treatment\n",
      "INFO:causalml:     AUC   (Control):     0.9276\n",
      "INFO:causalml:     AUC (Treatment):     0.9166\n",
      "INFO:causalml:Log Loss   (Control):     0.3087\n",
      "INFO:causalml:Log Loss (Treatment):     0.2661\n",
      "INFO:causalml:Error metrics for group treatment\n",
      "INFO:causalml:     AUC   (Control):     0.5274\n",
      "INFO:causalml:     AUC (Treatment):     0.5641\n",
      "INFO:causalml:Log Loss   (Control):     0.3893\n",
      "INFO:causalml:Log Loss (Treatment):     0.3195\n",
      "INFO:causalml:Error metrics for group treatment\n",
      "INFO:causalml:     AUC   (Control):     0.9391\n",
      "INFO:causalml:     AUC (Treatment):     0.9263\n",
      "INFO:causalml:Log Loss   (Control):     0.2990\n",
      "INFO:causalml:Log Loss (Treatment):     0.2584\n",
      "INFO:causalml:Error metrics for group treatment\n",
      "INFO:causalml:     AUC   (Control):     0.5517\n",
      "INFO:causalml:     AUC (Treatment):     0.5781\n",
      "INFO:causalml:Log Loss   (Control):     0.3893\n",
      "INFO:causalml:Log Loss (Treatment):     0.3202\n",
      "INFO:causalml:Error metrics for group treatment\n",
      "INFO:causalml:     AUC   (Control):     0.9428\n",
      "INFO:causalml:     AUC (Treatment):     0.9247\n",
      "INFO:causalml:Log Loss   (Control):     0.3002\n",
      "INFO:causalml:Log Loss (Treatment):     0.2606\n",
      "INFO:causalml:Error metrics for group treatment\n",
      "INFO:causalml:     AUC   (Control):     0.5291\n",
      "INFO:causalml:     AUC (Treatment):     0.5386\n",
      "INFO:causalml:Log Loss   (Control):     0.3902\n",
      "INFO:causalml:Log Loss (Treatment):     0.3211\n",
      "INFO:causalml:Error metrics for group treatment\n",
      "INFO:causalml:     AUC   (Control):     0.9569\n",
      "INFO:causalml:     AUC (Treatment):     0.9435\n",
      "INFO:causalml:Log Loss   (Control):     0.3013\n",
      "INFO:causalml:Log Loss (Treatment):     0.2595\n",
      "INFO:causalml:Error metrics for group treatment\n",
      "INFO:causalml:     AUC   (Control):     0.5178\n",
      "INFO:causalml:     AUC (Treatment):     0.5189\n",
      "INFO:causalml:Log Loss   (Control):     0.3913\n",
      "INFO:causalml:Log Loss (Treatment):     0.3231\n",
      "INFO:causalml:Error metrics for group treatment\n",
      "INFO:causalml:     AUC   (Control):     0.9530\n",
      "INFO:causalml:     AUC (Treatment):     0.9521\n",
      "INFO:causalml:Log Loss   (Control):     0.3036\n",
      "INFO:causalml:Log Loss (Treatment):     0.2577\n",
      "INFO:causalml:Error metrics for group treatment\n",
      "INFO:causalml:     AUC   (Control):     0.5395\n",
      "INFO:causalml:     AUC (Treatment):     0.4787\n",
      "INFO:causalml:Log Loss   (Control):     0.3897\n",
      "INFO:causalml:Log Loss (Treatment):     0.3239\n",
      "INFO:causalml:Error metrics for group treatment\n",
      "INFO:causalml:     AUC   (Control):     0.9531\n",
      "INFO:causalml:     AUC (Treatment):     0.9541\n",
      "INFO:causalml:Log Loss   (Control):     0.3017\n",
      "INFO:causalml:Log Loss (Treatment):     0.2567\n",
      "INFO:causalml:Error metrics for group treatment\n",
      "INFO:causalml:     AUC   (Control):     0.5076\n",
      "INFO:causalml:     AUC (Treatment):     0.5340\n",
      "INFO:causalml:Log Loss   (Control):     0.3915\n",
      "INFO:causalml:Log Loss (Treatment):     0.3219\n",
      "INFO:causalml:Error metrics for group treatment\n",
      "INFO:causalml:     AUC   (Control):     0.9547\n",
      "INFO:causalml:     AUC (Treatment):     0.9377\n",
      "INFO:causalml:Log Loss   (Control):     0.3043\n",
      "INFO:causalml:Log Loss (Treatment):     0.2627\n",
      "INFO:causalml:Error metrics for group treatment\n",
      "INFO:causalml:     AUC   (Control):     0.5326\n",
      "INFO:causalml:     AUC (Treatment):     0.5289\n",
      "INFO:causalml:Log Loss   (Control):     0.3907\n",
      "INFO:causalml:Log Loss (Treatment):     0.3218\n",
      "INFO:causalml:Error metrics for group treatment\n",
      "INFO:causalml:     AUC   (Control):     0.9626\n",
      "INFO:causalml:     AUC (Treatment):     0.9877\n",
      "INFO:causalml:Log Loss   (Control):     0.2767\n",
      "INFO:causalml:Log Loss (Treatment):     0.2207\n",
      "INFO:causalml:Error metrics for group treatment\n",
      "INFO:causalml:     AUC   (Control):     0.5326\n",
      "INFO:causalml:     AUC (Treatment):     0.5289\n",
      "INFO:causalml:Log Loss   (Control):     0.3907\n",
      "INFO:causalml:Log Loss (Treatment):     0.3218\n",
      "INFO:causalml:Error metrics for group treatment\n",
      "INFO:causalml:     AUC   (Control):     0.9626\n",
      "INFO:causalml:     AUC (Treatment):     0.9877\n",
      "INFO:causalml:Log Loss   (Control):     0.2767\n",
      "INFO:causalml:Log Loss (Treatment):     0.2207\n",
      "INFO:causalml:Error metrics for group treatment\n",
      "INFO:causalml:     AUC   (Control):     0.5326\n",
      "INFO:causalml:     AUC (Treatment):     0.5289\n",
      "INFO:causalml:Log Loss   (Control):     0.3907\n",
      "INFO:causalml:Log Loss (Treatment):     0.3218\n",
      "INFO:causalml:Error metrics for group treatment\n",
      "INFO:causalml:     AUC   (Control):     0.9626\n",
      "INFO:causalml:     AUC (Treatment):     0.9877\n",
      "INFO:causalml:Log Loss   (Control):     0.2767\n",
      "INFO:causalml:Log Loss (Treatment):     0.2207\n",
      "INFO:causalml:Error metrics for group treatment\n",
      "INFO:causalml:     AUC   (Control):     0.5326\n",
      "INFO:causalml:     AUC (Treatment):     0.5289\n",
      "INFO:causalml:Log Loss   (Control):     0.3907\n",
      "INFO:causalml:Log Loss (Treatment):     0.3218\n",
      "INFO:causalml:Error metrics for group treatment\n",
      "INFO:causalml:     AUC   (Control):     0.9626\n",
      "INFO:causalml:     AUC (Treatment):     0.9877\n",
      "INFO:causalml:Log Loss   (Control):     0.2767\n",
      "INFO:causalml:Log Loss (Treatment):     0.2207\n",
      "INFO:causalml:Error metrics for group treatment\n",
      "INFO:causalml:     AUC   (Control):     0.5326\n",
      "INFO:causalml:     AUC (Treatment):     0.5289\n",
      "INFO:causalml:Log Loss   (Control):     0.3907\n",
      "INFO:causalml:Log Loss (Treatment):     0.3218\n",
      "INFO:causalml:Error metrics for group treatment\n",
      "INFO:causalml:     AUC   (Control):     0.9626\n",
      "INFO:causalml:     AUC (Treatment):     0.9877\n",
      "INFO:causalml:Log Loss   (Control):     0.2767\n",
      "INFO:causalml:Log Loss (Treatment):     0.2207\n",
      "INFO:causalml:Error metrics for group treatment\n",
      "INFO:causalml:     AUC   (Control):     0.5326\n",
      "INFO:causalml:     AUC (Treatment):     0.5289\n",
      "INFO:causalml:Log Loss   (Control):     0.3907\n",
      "INFO:causalml:Log Loss (Treatment):     0.3218\n",
      "INFO:causalml:Error metrics for group treatment\n",
      "INFO:causalml:     AUC   (Control):     0.9626\n",
      "INFO:causalml:     AUC (Treatment):     0.9877\n",
      "INFO:causalml:Log Loss   (Control):     0.2767\n",
      "INFO:causalml:Log Loss (Treatment):     0.2207\n",
      "INFO:causalml:Error metrics for group treatment\n",
      "INFO:causalml:     AUC   (Control):     0.5326\n",
      "INFO:causalml:     AUC (Treatment):     0.5289\n",
      "INFO:causalml:Log Loss   (Control):     0.3907\n",
      "INFO:causalml:Log Loss (Treatment):     0.3218\n",
      "INFO:causalml:Error metrics for group treatment\n",
      "INFO:causalml:     AUC   (Control):     0.9626\n",
      "INFO:causalml:     AUC (Treatment):     0.9877\n",
      "INFO:causalml:Log Loss   (Control):     0.2767\n",
      "INFO:causalml:Log Loss (Treatment):     0.2207\n",
      "INFO:causalml:Error metrics for group treatment\n",
      "INFO:causalml:     AUC   (Control):     0.5326\n",
      "INFO:causalml:     AUC (Treatment):     0.5289\n",
      "INFO:causalml:Log Loss   (Control):     0.3907\n",
      "INFO:causalml:Log Loss (Treatment):     0.3218\n",
      "INFO:causalml:Error metrics for group treatment\n",
      "INFO:causalml:     AUC   (Control):     0.9626\n",
      "INFO:causalml:     AUC (Treatment):     0.9877\n",
      "INFO:causalml:Log Loss   (Control):     0.2767\n",
      "INFO:causalml:Log Loss (Treatment):     0.2207\n",
      "INFO:causalml:Error metrics for group treatment\n",
      "INFO:causalml:     AUC   (Control):     0.5424\n",
      "INFO:causalml:     AUC (Treatment):     0.5349\n",
      "INFO:causalml:Log Loss   (Control):     0.3908\n"
     ]
    },
    {
     "name": "stderr",
     "output_type": "stream",
     "text": [
      "INFO:causalml:Log Loss (Treatment):     0.3237\n",
      "INFO:causalml:Error metrics for group treatment\n",
      "INFO:causalml:     AUC   (Control):     0.9805\n",
      "INFO:causalml:     AUC (Treatment):     0.9919\n",
      "INFO:causalml:Log Loss   (Control):     0.2518\n",
      "INFO:causalml:Log Loss (Treatment):     0.2116\n",
      "INFO:causalml:Error metrics for group treatment\n",
      "INFO:causalml:     AUC   (Control):     0.5424\n",
      "INFO:causalml:     AUC (Treatment):     0.5349\n",
      "INFO:causalml:Log Loss   (Control):     0.3908\n",
      "INFO:causalml:Log Loss (Treatment):     0.3237\n",
      "INFO:causalml:Error metrics for group treatment\n",
      "INFO:causalml:     AUC   (Control):     0.9805\n",
      "INFO:causalml:     AUC (Treatment):     0.9919\n",
      "INFO:causalml:Log Loss   (Control):     0.2518\n",
      "INFO:causalml:Log Loss (Treatment):     0.2116\n",
      "INFO:causalml:Error metrics for group treatment\n",
      "INFO:causalml:     AUC   (Control):     0.5424\n",
      "INFO:causalml:     AUC (Treatment):     0.5349\n",
      "INFO:causalml:Log Loss   (Control):     0.3908\n",
      "INFO:causalml:Log Loss (Treatment):     0.3237\n",
      "INFO:causalml:Error metrics for group treatment\n",
      "INFO:causalml:     AUC   (Control):     0.9805\n",
      "INFO:causalml:     AUC (Treatment):     0.9919\n",
      "INFO:causalml:Log Loss   (Control):     0.2518\n",
      "INFO:causalml:Log Loss (Treatment):     0.2116\n",
      "INFO:causalml:Error metrics for group treatment\n",
      "INFO:causalml:     AUC   (Control):     0.5424\n",
      "INFO:causalml:     AUC (Treatment):     0.5349\n",
      "INFO:causalml:Log Loss   (Control):     0.3908\n",
      "INFO:causalml:Log Loss (Treatment):     0.3237\n",
      "INFO:causalml:Error metrics for group treatment\n",
      "INFO:causalml:     AUC   (Control):     0.9805\n",
      "INFO:causalml:     AUC (Treatment):     0.9919\n",
      "INFO:causalml:Log Loss   (Control):     0.2518\n",
      "INFO:causalml:Log Loss (Treatment):     0.2116\n",
      "INFO:causalml:Error metrics for group treatment\n",
      "INFO:causalml:     AUC   (Control):     0.5424\n",
      "INFO:causalml:     AUC (Treatment):     0.5349\n",
      "INFO:causalml:Log Loss   (Control):     0.3908\n",
      "INFO:causalml:Log Loss (Treatment):     0.3237\n",
      "INFO:causalml:Error metrics for group treatment\n",
      "INFO:causalml:     AUC   (Control):     0.9805\n",
      "INFO:causalml:     AUC (Treatment):     0.9919\n",
      "INFO:causalml:Log Loss   (Control):     0.2518\n",
      "INFO:causalml:Log Loss (Treatment):     0.2116\n",
      "INFO:causalml:Error metrics for group treatment\n",
      "INFO:causalml:     AUC   (Control):     0.5424\n",
      "INFO:causalml:     AUC (Treatment):     0.5349\n",
      "INFO:causalml:Log Loss   (Control):     0.3908\n",
      "INFO:causalml:Log Loss (Treatment):     0.3237\n",
      "INFO:causalml:Error metrics for group treatment\n",
      "INFO:causalml:     AUC   (Control):     0.9805\n",
      "INFO:causalml:     AUC (Treatment):     0.9919\n",
      "INFO:causalml:Log Loss   (Control):     0.2518\n",
      "INFO:causalml:Log Loss (Treatment):     0.2116\n",
      "INFO:causalml:Error metrics for group treatment\n",
      "INFO:causalml:     AUC   (Control):     0.5424\n",
      "INFO:causalml:     AUC (Treatment):     0.5349\n",
      "INFO:causalml:Log Loss   (Control):     0.3908\n",
      "INFO:causalml:Log Loss (Treatment):     0.3237\n",
      "INFO:causalml:Error metrics for group treatment\n",
      "INFO:causalml:     AUC   (Control):     0.9805\n",
      "INFO:causalml:     AUC (Treatment):     0.9919\n",
      "INFO:causalml:Log Loss   (Control):     0.2518\n",
      "INFO:causalml:Log Loss (Treatment):     0.2116\n",
      "INFO:causalml:Error metrics for group treatment\n",
      "INFO:causalml:     AUC   (Control):     0.5402\n",
      "INFO:causalml:     AUC (Treatment):     0.5087\n",
      "INFO:causalml:Log Loss   (Control):     0.3901\n",
      "INFO:causalml:Log Loss (Treatment):     0.3245\n",
      "INFO:causalml:Error metrics for group treatment\n",
      "INFO:causalml:     AUC   (Control):     0.9805\n",
      "INFO:causalml:     AUC (Treatment):     0.9902\n",
      "INFO:causalml:Log Loss   (Control):     0.2564\n",
      "INFO:causalml:Log Loss (Treatment):     0.2153\n"
     ]
    }
   ],
   "source": [
    "res_df_ed = pd.DataFrame({'num_features': np.arange(10, 260, 20), 'ERMSE': np.arange(13), 'IF-PEHE': np.arange(13)})\n",
    "\n",
    "\n",
    "for i in range(10, 250, 10):\n",
    "    features = list(f_imp.loc[f_imp['rank'] <= i, 'feature'])\n",
    "    x_temp_tr = df_train0[features]\n",
    "    x_temp_te = df_test0[features]\n",
    "    learner_srf = BaseSClassifier(learner=RandomForestClassifier(max_depth=6, random_state=1105), control_name='control')\n",
    "    learner_srf.fit(X=x_temp_tr,treatment=df_train0['treatment'],y=df_train0['adrd'])\n",
    "    cate_srf = learner_srf.predict(X=x_temp_te, treatment=df_test0['treatment'], y=df_test0['adrd'])\n",
    "    \n",
    "    test_learner_srf = BaseSClassifier(learner=RandomForestClassifier(max_depth=6, random_state=1105), control_name='control')\n",
    "    test_cate_srf = test_learner_srf.fit_predict(X=x_temp_te,\n",
    "                treatment=df_test0['treatment'], y=df_test0['adrd'])\n",
    "    \n",
    "    res_df_ed.loc[res_df_ed['num_features'] == i, 'ERMSE'] = ((cate_srf-test_cate_srf)**2).mean()**(1/2)\n",
    "    \n",
    "    cate_srf = learner_srf.predict(X=x_temp_te, treatment=treatment_test)\n",
    "    cate = cate_srf.flatten()\n",
    "    plug_in = (t_plugin-cate)**2\n",
    "    l_de = (ident - b) * t_plugin**2 + b*y_test*(t_plugin - cate) + (- a*(t_plugin - cate)**2 + cate**2)\n",
    "    res_df_ed.loc[res_df_ed['num_features'] == i, 'IF-PEHE'] = (np.sum(l_de) + np.sum(plug_in))\n",
    "    \n",
    "# Add the evaluation of all features\n",
    "learner_srf = BaseSClassifier(learner=RandomForestClassifier(max_depth=6, random_state=1105), control_name='control')\n",
    "learner_srf.fit(X=x_train0,treatment=df_train0['treatment'],y=df_train0['adrd'])\n",
    "cate_srf = learner_srf.predict(X=x_test0, treatment=df_test0['treatment'], y=df_test0['adrd'])\n",
    "    \n",
    "test_learner_srf = BaseSClassifier(learner=RandomForestClassifier(max_depth=6, random_state=1105), control_name='control')\n",
    "test_cate_srf = test_learner_srf.fit_predict(X=x_test0,treatment=df_test0['treatment'], y=df_test0['adrd'])\n",
    "\n",
    "res_df_ed.iloc[12, 0] = 249\n",
    "res_df_ed.iloc[12, 1] = ((cate_srf-test_cate_srf)**2).mean()**(1/2)\n",
    "cate_srf = learner_srf.predict(X=x_test0, treatment=treatment_test)\n",
    "\n",
    "cate = cate_srf.flatten()\n",
    "plug_in = (t_plugin-cate)**2\n",
    "l_de = (ident - b) * t_plugin**2 + b*y_test*(t_plugin - cate) + (- a*(t_plugin - cate)**2 + cate**2)\n",
    "res_df_ed.iloc[12, 2] = (np.sum(l_de) + np.sum(plug_in))"
   ]
  },
  {
   "cell_type": "code",
   "execution_count": 183,
   "metadata": {},
   "outputs": [
    {
     "data": {
      "text/plain": [
       "[<matplotlib.lines.Line2D at 0x7f71cd6d3c90>]"
      ]
     },
     "execution_count": 183,
     "metadata": {},
     "output_type": "execute_result"
    },
    {
     "data": {
      "image/png": "[encoded data removed]",
      "text/plain": [
       "<Figure size 432x288 with 1 Axes>"
      ]
     },
     "metadata": {},
     "output_type": "display_data"
    }
   ],
   "source": [
    "plt.plot(res_df['num_features'], res_df['ERMSE'])"
   ]
  },
  {
   "cell_type": "code",
   "execution_count": 184,
   "metadata": {},
   "outputs": [
    {
     "data": {
      "text/plain": [
       "[<matplotlib.lines.Line2D at 0x7f70d0042a90>]"
      ]
     },
     "execution_count": 184,
     "metadata": {},
     "output_type": "execute_result"
    },
    {
     "data": {
      "image/png": "[encoded data removed]",
      "text/plain": [
       "<Figure size 432x288 with 1 Axes>"
      ]
     },
     "metadata": {},
     "output_type": "display_data"
    }
   ],
   "source": [
    "plt.plot(res_df['num_features'], res_df['IF-PEHE'])"
   ]
  },
  {
   "cell_type": "code",
   "execution_count": 185,
   "metadata": {},
   "outputs": [
    {
     "data": {
      "text/html": [
       "<div>\n",
       "<style scoped>\n",
       "    .dataframe tbody tr th:only-of-type {\n",
       "        vertical-align: middle;\n",
       "    }\n",
       "\n",
       "    .dataframe tbody tr th {\n",
       "        vertical-align: top;\n",
       "    }\n",
       "\n",
       "    .dataframe thead th {\n",
       "        text-align: right;\n",
       "    }\n",
       "</style>\n",
       "<table border=\"1\" class=\"dataframe\">\n",
       "  <thead>\n",
       "    <tr style=\"text-align: right;\">\n",
       "      <th></th>\n",
       "      <th>num_features</th>\n",
       "      <th>ERMSE</th>\n",
       "      <th>IF-PEHE</th>\n",
       "    </tr>\n",
       "  </thead>\n",
       "  <tbody>\n",
       "    <tr>\n",
       "      <th>0</th>\n",
       "      <td>10</td>\n",
       "      <td>0.015859</td>\n",
       "      <td>13.713256</td>\n",
       "    </tr>\n",
       "    <tr>\n",
       "      <th>1</th>\n",
       "      <td>30</td>\n",
       "      <td>0.006403</td>\n",
       "      <td>10.355873</td>\n",
       "    </tr>\n",
       "    <tr>\n",
       "      <th>2</th>\n",
       "      <td>50</td>\n",
       "      <td>0.004697</td>\n",
       "      <td>9.664238</td>\n",
       "    </tr>\n",
       "    <tr>\n",
       "      <th>3</th>\n",
       "      <td>70</td>\n",
       "      <td>0.005036</td>\n",
       "      <td>9.959052</td>\n",
       "    </tr>\n",
       "    <tr>\n",
       "      <th>4</th>\n",
       "      <td>90</td>\n",
       "      <td>0.003890</td>\n",
       "      <td>10.434812</td>\n",
       "    </tr>\n",
       "    <tr>\n",
       "      <th>5</th>\n",
       "      <td>110</td>\n",
       "      <td>0.003875</td>\n",
       "      <td>9.927695</td>\n",
       "    </tr>\n",
       "    <tr>\n",
       "      <th>6</th>\n",
       "      <td>130</td>\n",
       "      <td>0.003875</td>\n",
       "      <td>9.927695</td>\n",
       "    </tr>\n",
       "    <tr>\n",
       "      <th>7</th>\n",
       "      <td>150</td>\n",
       "      <td>0.003875</td>\n",
       "      <td>9.927695</td>\n",
       "    </tr>\n",
       "    <tr>\n",
       "      <th>8</th>\n",
       "      <td>170</td>\n",
       "      <td>0.003875</td>\n",
       "      <td>9.927695</td>\n",
       "    </tr>\n",
       "    <tr>\n",
       "      <th>9</th>\n",
       "      <td>190</td>\n",
       "      <td>0.003918</td>\n",
       "      <td>9.505138</td>\n",
       "    </tr>\n",
       "    <tr>\n",
       "      <th>10</th>\n",
       "      <td>210</td>\n",
       "      <td>0.003918</td>\n",
       "      <td>9.505138</td>\n",
       "    </tr>\n",
       "    <tr>\n",
       "      <th>11</th>\n",
       "      <td>230</td>\n",
       "      <td>0.003918</td>\n",
       "      <td>9.505138</td>\n",
       "    </tr>\n",
       "    <tr>\n",
       "      <th>12</th>\n",
       "      <td>249</td>\n",
       "      <td>0.002883</td>\n",
       "      <td>9.816688</td>\n",
       "    </tr>\n",
       "  </tbody>\n",
       "</table>\n",
       "</div>"
      ],
      "text/plain": [
       "    num_features     ERMSE    IF-PEHE\n",
       "0             10  0.015859  13.713256\n",
       "1             30  0.006403  10.355873\n",
       "2             50  0.004697   9.664238\n",
       "3             70  0.005036   9.959052\n",
       "4             90  0.003890  10.434812\n",
       "5            110  0.003875   9.927695\n",
       "6            130  0.003875   9.927695\n",
       "7            150  0.003875   9.927695\n",
       "8            170  0.003875   9.927695\n",
       "9            190  0.003918   9.505138\n",
       "10           210  0.003918   9.505138\n",
       "11           230  0.003918   9.505138\n",
       "12           249  0.002883   9.816688"
      ]
     },
     "execution_count": 185,
     "metadata": {},
     "output_type": "execute_result"
    }
   ],
   "source": [
    "res_df"
   ]
  },
  {
   "cell_type": "markdown",
   "metadata": {},
   "source": [
    "### Chi"
   ]
  },
  {
   "cell_type": "code",
   "execution_count": 32,
   "metadata": {},
   "outputs": [
    {
     "name": "stderr",
     "output_type": "stream",
     "text": [
      "INFO:causalml:Error metrics for group treatment\n",
      "INFO:causalml:     AUC   (Control):     0.5125\n",
      "INFO:causalml:     AUC (Treatment):     0.5454\n",
      "INFO:causalml:Log Loss   (Control):     0.3894\n",
      "INFO:causalml:Log Loss (Treatment):     0.3178\n",
      "INFO:causalml:Error metrics for group treatment\n",
      "INFO:causalml:     AUC   (Control):     0.8528\n",
      "INFO:causalml:     AUC (Treatment):     0.9060\n",
      "INFO:causalml:Log Loss   (Control):     0.3358\n",
      "INFO:causalml:Log Loss (Treatment):     0.2664\n",
      "INFO:causalml:Error metrics for group treatment\n",
      "INFO:causalml:     AUC   (Control):     0.5359\n",
      "INFO:causalml:     AUC (Treatment):     0.5884\n",
      "INFO:causalml:Log Loss   (Control):     0.3885\n",
      "INFO:causalml:Log Loss (Treatment):     0.3170\n",
      "INFO:causalml:Error metrics for group treatment\n",
      "INFO:causalml:     AUC   (Control):     0.9010\n",
      "INFO:causalml:     AUC (Treatment):     0.9031\n",
      "INFO:causalml:Log Loss   (Control):     0.3178\n",
      "INFO:causalml:Log Loss (Treatment):     0.2679\n",
      "INFO:causalml:Error metrics for group treatment\n",
      "INFO:causalml:     AUC   (Control):     0.5052\n",
      "INFO:causalml:     AUC (Treatment):     0.5524\n",
      "INFO:causalml:Log Loss   (Control):     0.3904\n",
      "INFO:causalml:Log Loss (Treatment):     0.3203\n",
      "INFO:causalml:Error metrics for group treatment\n",
      "INFO:causalml:     AUC   (Control):     0.9280\n",
      "INFO:causalml:     AUC (Treatment):     0.9080\n",
      "INFO:causalml:Log Loss   (Control):     0.3076\n",
      "INFO:causalml:Log Loss (Treatment):     0.2654\n",
      "INFO:causalml:Error metrics for group treatment\n",
      "INFO:causalml:     AUC   (Control):     0.5415\n",
      "INFO:causalml:     AUC (Treatment):     0.5625\n",
      "INFO:causalml:Log Loss   (Control):     0.3892\n",
      "INFO:causalml:Log Loss (Treatment):     0.3202\n",
      "INFO:causalml:Error metrics for group treatment\n",
      "INFO:causalml:     AUC   (Control):     0.9362\n",
      "INFO:causalml:     AUC (Treatment):     0.9380\n",
      "INFO:causalml:Log Loss   (Control):     0.3015\n",
      "INFO:causalml:Log Loss (Treatment):     0.2548\n",
      "INFO:causalml:Error metrics for group treatment\n",
      "INFO:causalml:     AUC   (Control):     0.5379\n",
      "INFO:causalml:     AUC (Treatment):     0.5257\n",
      "INFO:causalml:Log Loss   (Control):     0.3891\n",
      "INFO:causalml:Log Loss (Treatment):     0.3222\n",
      "INFO:causalml:Error metrics for group treatment\n",
      "INFO:causalml:     AUC   (Control):     0.9456\n",
      "INFO:causalml:     AUC (Treatment):     0.9220\n",
      "INFO:causalml:Log Loss   (Control):     0.3007\n",
      "INFO:causalml:Log Loss (Treatment):     0.2617\n",
      "INFO:causalml:Error metrics for group treatment\n",
      "INFO:causalml:     AUC   (Control):     0.5246\n",
      "INFO:causalml:     AUC (Treatment):     0.5244\n",
      "INFO:causalml:Log Loss   (Control):     0.3900\n",
      "INFO:causalml:Log Loss (Treatment):     0.3209\n",
      "INFO:causalml:Error metrics for group treatment\n",
      "INFO:causalml:     AUC   (Control):     0.9497\n",
      "INFO:causalml:     AUC (Treatment):     0.9457\n",
      "INFO:causalml:Log Loss   (Control):     0.3015\n",
      "INFO:causalml:Log Loss (Treatment):     0.2565\n",
      "INFO:causalml:Error metrics for group treatment\n",
      "INFO:causalml:     AUC   (Control):     0.5147\n",
      "INFO:causalml:     AUC (Treatment):     0.5373\n",
      "INFO:causalml:Log Loss   (Control):     0.3915\n",
      "INFO:causalml:Log Loss (Treatment):     0.3222\n",
      "INFO:causalml:Error metrics for group treatment\n",
      "INFO:causalml:     AUC   (Control):     0.9512\n",
      "INFO:causalml:     AUC (Treatment):     0.9400\n",
      "INFO:causalml:Log Loss   (Control):     0.3027\n",
      "INFO:causalml:Log Loss (Treatment):     0.2588\n",
      "INFO:causalml:Error metrics for group treatment\n",
      "INFO:causalml:     AUC   (Control):     0.5243\n",
      "INFO:causalml:     AUC (Treatment):     0.5670\n",
      "INFO:causalml:Log Loss   (Control):     0.3908\n",
      "INFO:causalml:Log Loss (Treatment):     0.3211\n",
      "INFO:causalml:Error metrics for group treatment\n",
      "INFO:causalml:     AUC   (Control):     0.9513\n",
      "INFO:causalml:     AUC (Treatment):     0.9615\n",
      "INFO:causalml:Log Loss   (Control):     0.3029\n",
      "INFO:causalml:Log Loss (Treatment):     0.2546\n",
      "INFO:causalml:Error metrics for group treatment\n",
      "INFO:causalml:     AUC   (Control):     0.5554\n",
      "INFO:causalml:     AUC (Treatment):     0.5623\n",
      "INFO:causalml:Log Loss   (Control):     0.3890\n",
      "INFO:causalml:Log Loss (Treatment):     0.3217\n",
      "INFO:causalml:Error metrics for group treatment\n",
      "INFO:causalml:     AUC   (Control):     0.9597\n",
      "INFO:causalml:     AUC (Treatment):     0.9787\n",
      "INFO:causalml:Log Loss   (Control):     0.2726\n",
      "INFO:causalml:Log Loss (Treatment):     0.2195\n",
      "INFO:causalml:Error metrics for group treatment\n",
      "INFO:causalml:     AUC   (Control):     0.5514\n",
      "INFO:causalml:     AUC (Treatment):     0.4870\n",
      "INFO:causalml:Log Loss   (Control):     0.3899\n",
      "INFO:causalml:Log Loss (Treatment):     0.3234\n",
      "INFO:causalml:Error metrics for group treatment\n",
      "INFO:causalml:     AUC   (Control):     0.9624\n",
      "INFO:causalml:     AUC (Treatment):     0.9845\n",
      "INFO:causalml:Log Loss   (Control):     0.2745\n",
      "INFO:causalml:Log Loss (Treatment):     0.2193\n",
      "INFO:causalml:Error metrics for group treatment\n",
      "INFO:causalml:     AUC   (Control):     0.5514\n",
      "INFO:causalml:     AUC (Treatment):     0.4870\n",
      "INFO:causalml:Log Loss   (Control):     0.3899\n",
      "INFO:causalml:Log Loss (Treatment):     0.3234\n",
      "INFO:causalml:Error metrics for group treatment\n",
      "INFO:causalml:     AUC   (Control):     0.9624\n",
      "INFO:causalml:     AUC (Treatment):     0.9845\n",
      "INFO:causalml:Log Loss   (Control):     0.2745\n",
      "INFO:causalml:Log Loss (Treatment):     0.2193\n",
      "INFO:causalml:Error metrics for group treatment\n",
      "INFO:causalml:     AUC   (Control):     0.5514\n",
      "INFO:causalml:     AUC (Treatment):     0.4870\n",
      "INFO:causalml:Log Loss   (Control):     0.3899\n",
      "INFO:causalml:Log Loss (Treatment):     0.3234\n",
      "INFO:causalml:Error metrics for group treatment\n",
      "INFO:causalml:     AUC   (Control):     0.9624\n",
      "INFO:causalml:     AUC (Treatment):     0.9845\n",
      "INFO:causalml:Log Loss   (Control):     0.2745\n",
      "INFO:causalml:Log Loss (Treatment):     0.2193\n",
      "INFO:causalml:Error metrics for group treatment\n",
      "INFO:causalml:     AUC   (Control):     0.5514\n",
      "INFO:causalml:     AUC (Treatment):     0.4870\n",
      "INFO:causalml:Log Loss   (Control):     0.3899\n",
      "INFO:causalml:Log Loss (Treatment):     0.3234\n",
      "INFO:causalml:Error metrics for group treatment\n",
      "INFO:causalml:     AUC   (Control):     0.9624\n",
      "INFO:causalml:     AUC (Treatment):     0.9845\n",
      "INFO:causalml:Log Loss   (Control):     0.2745\n",
      "INFO:causalml:Log Loss (Treatment):     0.2193\n",
      "INFO:causalml:Error metrics for group treatment\n",
      "INFO:causalml:     AUC   (Control):     0.5514\n",
      "INFO:causalml:     AUC (Treatment):     0.4870\n",
      "INFO:causalml:Log Loss   (Control):     0.3899\n",
      "INFO:causalml:Log Loss (Treatment):     0.3234\n",
      "INFO:causalml:Error metrics for group treatment\n",
      "INFO:causalml:     AUC   (Control):     0.9624\n",
      "INFO:causalml:     AUC (Treatment):     0.9845\n",
      "INFO:causalml:Log Loss   (Control):     0.2745\n",
      "INFO:causalml:Log Loss (Treatment):     0.2193\n",
      "INFO:causalml:Error metrics for group treatment\n",
      "INFO:causalml:     AUC   (Control):     0.5514\n",
      "INFO:causalml:     AUC (Treatment):     0.4870\n",
      "INFO:causalml:Log Loss   (Control):     0.3899\n",
      "INFO:causalml:Log Loss (Treatment):     0.3234\n",
      "INFO:causalml:Error metrics for group treatment\n",
      "INFO:causalml:     AUC   (Control):     0.9624\n",
      "INFO:causalml:     AUC (Treatment):     0.9845\n",
      "INFO:causalml:Log Loss   (Control):     0.2745\n",
      "INFO:causalml:Log Loss (Treatment):     0.2193\n",
      "INFO:causalml:Error metrics for group treatment\n",
      "INFO:causalml:     AUC   (Control):     0.5514\n",
      "INFO:causalml:     AUC (Treatment):     0.4870\n",
      "INFO:causalml:Log Loss   (Control):     0.3899\n",
      "INFO:causalml:Log Loss (Treatment):     0.3234\n",
      "INFO:causalml:Error metrics for group treatment\n",
      "INFO:causalml:     AUC   (Control):     0.9624\n",
      "INFO:causalml:     AUC (Treatment):     0.9845\n",
      "INFO:causalml:Log Loss   (Control):     0.2745\n",
      "INFO:causalml:Log Loss (Treatment):     0.2193\n",
      "INFO:causalml:Error metrics for group treatment\n",
      "INFO:causalml:     AUC   (Control):     0.5514\n",
      "INFO:causalml:     AUC (Treatment):     0.4870\n",
      "INFO:causalml:Log Loss   (Control):     0.3899\n",
      "INFO:causalml:Log Loss (Treatment):     0.3234\n",
      "INFO:causalml:Error metrics for group treatment\n",
      "INFO:causalml:     AUC   (Control):     0.9624\n",
      "INFO:causalml:     AUC (Treatment):     0.9845\n",
      "INFO:causalml:Log Loss   (Control):     0.2745\n",
      "INFO:causalml:Log Loss (Treatment):     0.2193\n",
      "INFO:causalml:Error metrics for group treatment\n",
      "INFO:causalml:     AUC   (Control):     0.5323\n",
      "INFO:causalml:     AUC (Treatment):     0.5044\n",
      "INFO:causalml:Log Loss   (Control):     0.3909\n"
     ]
    },
    {
     "name": "stderr",
     "output_type": "stream",
     "text": [
      "INFO:causalml:Log Loss (Treatment):     0.3241\n",
      "INFO:causalml:Error metrics for group treatment\n",
      "INFO:causalml:     AUC   (Control):     0.9758\n",
      "INFO:causalml:     AUC (Treatment):     0.9882\n",
      "INFO:causalml:Log Loss   (Control):     0.2460\n",
      "INFO:causalml:Log Loss (Treatment):     0.2069\n",
      "INFO:causalml:Error metrics for group treatment\n",
      "INFO:causalml:     AUC   (Control):     0.5323\n",
      "INFO:causalml:     AUC (Treatment):     0.5044\n",
      "INFO:causalml:Log Loss   (Control):     0.3909\n",
      "INFO:causalml:Log Loss (Treatment):     0.3241\n",
      "INFO:causalml:Error metrics for group treatment\n",
      "INFO:causalml:     AUC   (Control):     0.9758\n",
      "INFO:causalml:     AUC (Treatment):     0.9882\n",
      "INFO:causalml:Log Loss   (Control):     0.2460\n",
      "INFO:causalml:Log Loss (Treatment):     0.2069\n",
      "INFO:causalml:Error metrics for group treatment\n",
      "INFO:causalml:     AUC   (Control):     0.5323\n",
      "INFO:causalml:     AUC (Treatment):     0.5044\n",
      "INFO:causalml:Log Loss   (Control):     0.3909\n",
      "INFO:causalml:Log Loss (Treatment):     0.3241\n",
      "INFO:causalml:Error metrics for group treatment\n",
      "INFO:causalml:     AUC   (Control):     0.9758\n",
      "INFO:causalml:     AUC (Treatment):     0.9882\n",
      "INFO:causalml:Log Loss   (Control):     0.2460\n",
      "INFO:causalml:Log Loss (Treatment):     0.2069\n",
      "INFO:causalml:Error metrics for group treatment\n",
      "INFO:causalml:     AUC   (Control):     0.5323\n",
      "INFO:causalml:     AUC (Treatment):     0.5044\n",
      "INFO:causalml:Log Loss   (Control):     0.3909\n",
      "INFO:causalml:Log Loss (Treatment):     0.3241\n",
      "INFO:causalml:Error metrics for group treatment\n",
      "INFO:causalml:     AUC   (Control):     0.9758\n",
      "INFO:causalml:     AUC (Treatment):     0.9882\n",
      "INFO:causalml:Log Loss   (Control):     0.2460\n",
      "INFO:causalml:Log Loss (Treatment):     0.2069\n",
      "INFO:causalml:Error metrics for group treatment\n",
      "INFO:causalml:     AUC   (Control):     0.5323\n",
      "INFO:causalml:     AUC (Treatment):     0.5044\n",
      "INFO:causalml:Log Loss   (Control):     0.3909\n",
      "INFO:causalml:Log Loss (Treatment):     0.3241\n",
      "INFO:causalml:Error metrics for group treatment\n",
      "INFO:causalml:     AUC   (Control):     0.9758\n",
      "INFO:causalml:     AUC (Treatment):     0.9882\n",
      "INFO:causalml:Log Loss   (Control):     0.2460\n",
      "INFO:causalml:Log Loss (Treatment):     0.2069\n",
      "INFO:causalml:Error metrics for group treatment\n",
      "INFO:causalml:     AUC   (Control):     0.5323\n",
      "INFO:causalml:     AUC (Treatment):     0.5044\n",
      "INFO:causalml:Log Loss   (Control):     0.3909\n",
      "INFO:causalml:Log Loss (Treatment):     0.3241\n",
      "INFO:causalml:Error metrics for group treatment\n",
      "INFO:causalml:     AUC   (Control):     0.9758\n",
      "INFO:causalml:     AUC (Treatment):     0.9882\n",
      "INFO:causalml:Log Loss   (Control):     0.2460\n",
      "INFO:causalml:Log Loss (Treatment):     0.2069\n",
      "INFO:causalml:Error metrics for group treatment\n",
      "INFO:causalml:     AUC   (Control):     0.5323\n",
      "INFO:causalml:     AUC (Treatment):     0.5044\n",
      "INFO:causalml:Log Loss   (Control):     0.3909\n",
      "INFO:causalml:Log Loss (Treatment):     0.3241\n",
      "INFO:causalml:Error metrics for group treatment\n",
      "INFO:causalml:     AUC   (Control):     0.9758\n",
      "INFO:causalml:     AUC (Treatment):     0.9882\n",
      "INFO:causalml:Log Loss   (Control):     0.2460\n",
      "INFO:causalml:Log Loss (Treatment):     0.2069\n",
      "INFO:causalml:Error metrics for group treatment\n",
      "INFO:causalml:     AUC   (Control):     0.5402\n",
      "INFO:causalml:     AUC (Treatment):     0.5087\n",
      "INFO:causalml:Log Loss   (Control):     0.3901\n",
      "INFO:causalml:Log Loss (Treatment):     0.3245\n",
      "INFO:causalml:Error metrics for group treatment\n",
      "INFO:causalml:     AUC   (Control):     0.9805\n",
      "INFO:causalml:     AUC (Treatment):     0.9902\n",
      "INFO:causalml:Log Loss   (Control):     0.2564\n",
      "INFO:causalml:Log Loss (Treatment):     0.2153\n"
     ]
    }
   ],
   "source": [
    "method = 'Chi'\n",
    "f_imp = filter_f.get_importance(df_train0, x_names, y_name, method, \n",
    "                      treatment_group = 'treatment')\n",
    "res_df_chi = pd.DataFrame({'num_features': np.arange(10, 260, 20), 'ERMSE': np.arange(13), 'IF-PEHE': np.arange(13)})\n",
    "\n",
    "\n",
    "for i in range(10, 250, 10):\n",
    "    features = list(f_imp.loc[f_imp['rank'] <= i, 'feature'])\n",
    "    x_temp_tr = df_train0[features]\n",
    "    x_temp_te = df_test0[features]\n",
    "    learner_srf = BaseSClassifier(learner=RandomForestClassifier(max_depth=6, random_state=1105), control_name='control')\n",
    "    learner_srf.fit(X=x_temp_tr,treatment=df_train0['treatment'],y=df_train0['adrd'])\n",
    "    cate_srf = learner_srf.predict(X=x_temp_te, treatment=df_test0['treatment'], y=df_test0['adrd'])\n",
    "    \n",
    "    test_learner_srf = BaseSClassifier(learner=RandomForestClassifier(max_depth=6, random_state=1105), control_name='control')\n",
    "    test_cate_srf = test_learner_srf.fit_predict(X=x_temp_te,\n",
    "                treatment=df_test0['treatment'], y=df_test0['adrd'])\n",
    "    \n",
    "    res_df_chi.loc[res_df_chi['num_features'] == i, 'ERMSE'] = ((cate_srf-test_cate_srf)**2).mean()**(1/2)\n",
    "    \n",
    "    cate_srf = learner_srf.predict(X=x_temp_te, treatment=treatment_test)\n",
    "    cate = cate_srf.flatten()\n",
    "    plug_in = (t_plugin-cate)**2\n",
    "    l_de = (ident - b) * t_plugin**2 + b*y_test*(t_plugin - cate) + (- a*(t_plugin - cate)**2 + cate**2)\n",
    "    res_df_chi.loc[res_df_chi['num_features'] == i, 'IF-PEHE'] = (np.sum(l_de) + np.sum(plug_in))\n",
    "    \n",
    "# Add the evaluation of all features\n",
    "learner_srf = BaseSClassifier(learner=RandomForestClassifier(max_depth=6, random_state=1105), control_name='control')\n",
    "learner_srf.fit(X=x_train0,treatment=df_train0['treatment'],y=df_train0['adrd'])\n",
    "cate_srf = learner_srf.predict(X=x_test0, treatment=df_test0['treatment'], y=df_test0['adrd'])\n",
    "    \n",
    "test_learner_srf = BaseSClassifier(learner=RandomForestClassifier(max_depth=6, random_state=1105), control_name='control')\n",
    "test_cate_srf = test_learner_srf.fit_predict(X=x_test0,treatment=df_test0['treatment'], y=df_test0['adrd'])\n",
    "\n",
    "res_df_chi.iloc[12, 0] = 249\n",
    "res_df_chi.iloc[12, 1] = ((cate_srf-test_cate_srf)**2).mean()**(1/2)\n",
    "cate_srf = learner_srf.predict(X=x_test0, treatment=treatment_test)\n",
    "\n",
    "cate = cate_srf.flatten()\n",
    "plug_in = (t_plugin-cate)**2\n",
    "l_de = (ident - b) * t_plugin**2 + b*y_test*(t_plugin - cate) + (- a*(t_plugin - cate)**2 + cate**2)\n",
    "res_df_chi.iloc[12, 2] = (np.sum(l_de) + np.sum(plug_in))"
   ]
  },
  {
   "cell_type": "code",
   "execution_count": 187,
   "metadata": {
    "scrolled": true
   },
   "outputs": [
    {
     "data": {
      "text/plain": [
       "[<matplotlib.lines.Line2D at 0x7f70d4365dd0>]"
      ]
     },
     "execution_count": 187,
     "metadata": {},
     "output_type": "execute_result"
    },
    {
     "data": {
      "image/png": "[encoded data removed]",
      "text/plain": [
       "<Figure size 432x288 with 1 Axes>"
      ]
     },
     "metadata": {},
     "output_type": "display_data"
    }
   ],
   "source": [
    "plt.plot(res_df['num_features'], res_df['ERMSE'])"
   ]
  },
  {
   "cell_type": "code",
   "execution_count": 189,
   "metadata": {},
   "outputs": [
    {
     "data": {
      "text/plain": [
       "[<matplotlib.lines.Line2D at 0x7f70c46f0290>]"
      ]
     },
     "execution_count": 189,
     "metadata": {},
     "output_type": "execute_result"
    },
    {
     "data": {
      "image/png": "[encoded data removed]",
      "text/plain": [
       "<Figure size 432x288 with 1 Axes>"
      ]
     },
     "metadata": {},
     "output_type": "display_data"
    }
   ],
   "source": [
    "plt.plot(res_df['num_features'], res_df['IF-PEHE'])"
   ]
  },
  {
   "cell_type": "code",
   "execution_count": 190,
   "metadata": {},
   "outputs": [
    {
     "data": {
      "text/html": [
       "<div>\n",
       "<style scoped>\n",
       "    .dataframe tbody tr th:only-of-type {\n",
       "        vertical-align: middle;\n",
       "    }\n",
       "\n",
       "    .dataframe tbody tr th {\n",
       "        vertical-align: top;\n",
       "    }\n",
       "\n",
       "    .dataframe thead th {\n",
       "        text-align: right;\n",
       "    }\n",
       "</style>\n",
       "<table border=\"1\" class=\"dataframe\">\n",
       "  <thead>\n",
       "    <tr style=\"text-align: right;\">\n",
       "      <th></th>\n",
       "      <th>num_features</th>\n",
       "      <th>ERMSE</th>\n",
       "      <th>IF-PEHE</th>\n",
       "    </tr>\n",
       "  </thead>\n",
       "  <tbody>\n",
       "    <tr>\n",
       "      <th>0</th>\n",
       "      <td>10</td>\n",
       "      <td>0.015347</td>\n",
       "      <td>13.291155</td>\n",
       "    </tr>\n",
       "    <tr>\n",
       "      <th>1</th>\n",
       "      <td>30</td>\n",
       "      <td>0.007955</td>\n",
       "      <td>10.829440</td>\n",
       "    </tr>\n",
       "    <tr>\n",
       "      <th>2</th>\n",
       "      <td>50</td>\n",
       "      <td>0.005495</td>\n",
       "      <td>10.114903</td>\n",
       "    </tr>\n",
       "    <tr>\n",
       "      <th>3</th>\n",
       "      <td>70</td>\n",
       "      <td>0.004099</td>\n",
       "      <td>9.905261</td>\n",
       "    </tr>\n",
       "    <tr>\n",
       "      <th>4</th>\n",
       "      <td>90</td>\n",
       "      <td>0.003074</td>\n",
       "      <td>9.921626</td>\n",
       "    </tr>\n",
       "    <tr>\n",
       "      <th>5</th>\n",
       "      <td>110</td>\n",
       "      <td>0.003494</td>\n",
       "      <td>10.246745</td>\n",
       "    </tr>\n",
       "    <tr>\n",
       "      <th>6</th>\n",
       "      <td>130</td>\n",
       "      <td>0.003494</td>\n",
       "      <td>10.246745</td>\n",
       "    </tr>\n",
       "    <tr>\n",
       "      <th>7</th>\n",
       "      <td>150</td>\n",
       "      <td>0.003494</td>\n",
       "      <td>10.246745</td>\n",
       "    </tr>\n",
       "    <tr>\n",
       "      <th>8</th>\n",
       "      <td>170</td>\n",
       "      <td>0.003494</td>\n",
       "      <td>10.246745</td>\n",
       "    </tr>\n",
       "    <tr>\n",
       "      <th>9</th>\n",
       "      <td>190</td>\n",
       "      <td>0.004447</td>\n",
       "      <td>10.042480</td>\n",
       "    </tr>\n",
       "    <tr>\n",
       "      <th>10</th>\n",
       "      <td>210</td>\n",
       "      <td>0.004447</td>\n",
       "      <td>10.042480</td>\n",
       "    </tr>\n",
       "    <tr>\n",
       "      <th>11</th>\n",
       "      <td>230</td>\n",
       "      <td>0.004447</td>\n",
       "      <td>10.042480</td>\n",
       "    </tr>\n",
       "    <tr>\n",
       "      <th>12</th>\n",
       "      <td>249</td>\n",
       "      <td>0.002883</td>\n",
       "      <td>9.816688</td>\n",
       "    </tr>\n",
       "  </tbody>\n",
       "</table>\n",
       "</div>"
      ],
      "text/plain": [
       "    num_features     ERMSE    IF-PEHE\n",
       "0             10  0.015347  13.291155\n",
       "1             30  0.007955  10.829440\n",
       "2             50  0.005495  10.114903\n",
       "3             70  0.004099   9.905261\n",
       "4             90  0.003074   9.921626\n",
       "5            110  0.003494  10.246745\n",
       "6            130  0.003494  10.246745\n",
       "7            150  0.003494  10.246745\n",
       "8            170  0.003494  10.246745\n",
       "9            190  0.004447  10.042480\n",
       "10           210  0.004447  10.042480\n",
       "11           230  0.004447  10.042480\n",
       "12           249  0.002883   9.816688"
      ]
     },
     "execution_count": 190,
     "metadata": {},
     "output_type": "execute_result"
    }
   ],
   "source": [
    "res_df"
   ]
  },
  {
   "cell_type": "markdown",
   "metadata": {},
   "source": [
    "### Multiple plots"
   ]
  },
  {
   "cell_type": "code",
   "execution_count": 41,
   "metadata": {},
   "outputs": [
    {
     "data": {
      "text/plain": [
       "[Text(0.5, 0, 'Number of features')]"
      ]
     },
     "execution_count": 41,
     "metadata": {},
     "output_type": "execute_result"
    },
    {
     "data": {
      "image/png": "[encoded data removed]",
      "text/plain": [
       "<Figure size 1296x576 with 6 Axes>"
      ]
     },
     "metadata": {},
     "output_type": "display_data"
    }
   ],
   "source": [
    "from matplotlib.pyplot import figure\n",
    "\n",
    "fig, axs = plt.subplots(2, 3, figsize=(18,8))\n",
    "axs[0, 0].plot(res_df['num_features'], res_df['ERMSE'])\n",
    "axs[0, 0].set_title('KL filter')\n",
    "axs[0, 0].set(ylabel='ERMSE')\n",
    "axs[0, 1].plot(res_df_ed['num_features'], res_df_ed['ERMSE'])\n",
    "axs[0, 1].set_title('ED filter')\n",
    "#axs[0, 2].set(xlabel='Number of features', ylabel='ERMSE')\n",
    "axs[0, 2].plot(res_df_chi['num_features'], res_df_chi['ERMSE'])\n",
    "axs[0, 2].set_title('Chi-sqaure filter')\n",
    "#axs[0, 0].set(xlabel='Number of features', ylabel='ERMSE')\n",
    "axs[1, 0].plot(res_df['num_features'], res_df['IF-PEHE'])\n",
    "axs[1, 0].set(xlabel='Number of features', ylabel='IF-PEHE')\n",
    "axs[1, 1].plot(res_df_ed['num_features'], res_df_ed['IF-PEHE'])\n",
    "axs[1, 1].set(xlabel='Number of features')\n",
    "axs[1, 2].plot(res_df_chi['num_features'], res_df_chi['IF-PEHE'])\n",
    "axs[1, 2].set(xlabel='Number of features')"
   ]
  },
  {
   "cell_type": "code",
   "execution_count": null,
   "metadata": {},
   "outputs": [],
   "source": []
  },
  {
   "cell_type": "markdown",
   "metadata": {},
   "source": [
    "## Models trained with all the features"
   ]
  },
  {
   "cell_type": "code",
   "execution_count": 36,
   "metadata": {},
   "outputs": [],
   "source": [
    "learner_srf = BaseSClassifier(learner=RandomForestClassifier(max_depth=6, random_state=1105), control_name='control')\n",
    "learner_srf.fit(X=x_train0,treatment=df_train0['treatment'],y=df_train0['adrd'])"
   ]
  },
  {
   "cell_type": "code",
   "execution_count": 37,
   "metadata": {},
   "outputs": [
    {
     "name": "stderr",
     "output_type": "stream",
     "text": [
      "INFO:causalml:Error metrics for group treatment\n",
      "INFO:causalml:     AUC   (Control):     0.5402\n",
      "INFO:causalml:     AUC (Treatment):     0.5087\n",
      "INFO:causalml:Log Loss   (Control):     0.3901\n",
      "INFO:causalml:Log Loss (Treatment):     0.3245\n",
      "INFO:causalml:Error metrics for group treatment\n",
      "INFO:causalml:     AUC   (Control):     0.9805\n",
      "INFO:causalml:     AUC (Treatment):     0.9902\n",
      "INFO:causalml:Log Loss   (Control):     0.2564\n",
      "INFO:causalml:Log Loss (Treatment):     0.2153\n"
     ]
    }
   ],
   "source": [
    "cate_srf = learner_srf.predict(X=x_test0, treatment=df_test0['treatment'], y=df_test0['adrd'])\n",
    "test_learner_srf = BaseSClassifier(learner=RandomForestClassifier(max_depth=6, random_state=1105), control_name='control')\n",
    "test_cate_srf = test_learner_srf.fit_predict(X=x_test0,\n",
    "                treatment=df_test0['treatment'], y=df_test0['adrd'])"
   ]
  },
  {
   "cell_type": "code",
   "execution_count": 38,
   "metadata": {},
   "outputs": [
    {
     "data": {
      "text/plain": [
       "0.002882500517789479"
      ]
     },
     "execution_count": 38,
     "metadata": {},
     "output_type": "execute_result"
    }
   ],
   "source": [
    "((cate_srf-test_cate_srf)**2).mean()**(1/2)"
   ]
  },
  {
   "cell_type": "markdown",
   "metadata": {},
   "source": [
    "## Models trained with selected features (p < 0.05)"
   ]
  },
  {
   "cell_type": "code",
   "execution_count": 41,
   "metadata": {},
   "outputs": [],
   "source": [
    "x_train1 = df_train0[fet_nm_p005]\n",
    "x_test1 = df_test0[fet_nm_p005]"
   ]
  },
  {
   "cell_type": "code",
   "execution_count": 42,
   "metadata": {},
   "outputs": [],
   "source": [
    "learner_srf_p005 = BaseSClassifier(learner=RandomForestClassifier(max_depth=6, random_state=1105), control_name='control')\n",
    "learner_srf_p005.fit(X=x_train1,treatment=df_train0['treatment'],y=df_train0['adrd'])"
   ]
  },
  {
   "cell_type": "code",
   "execution_count": 43,
   "metadata": {},
   "outputs": [
    {
     "name": "stderr",
     "output_type": "stream",
     "text": [
      "INFO:causalml:Error metrics for group treatment\n",
      "INFO:causalml:     AUC   (Control):     0.5301\n",
      "INFO:causalml:     AUC (Treatment):     0.5087\n",
      "INFO:causalml:Log Loss   (Control):     0.3922\n",
      "INFO:causalml:Log Loss (Treatment):     0.3244\n",
      "INFO:causalml:Error metrics for group treatment\n",
      "INFO:causalml:     AUC   (Control):     0.8047\n",
      "INFO:causalml:     AUC (Treatment):     0.8773\n",
      "INFO:causalml:Log Loss   (Control):     0.3504\n",
      "INFO:causalml:Log Loss (Treatment):     0.2753\n"
     ]
    }
   ],
   "source": [
    "cate_srf_p005 = learner_srf_p005.predict(X=x_test1, treatment=df_test0['treatment'], y=df_test0['adrd'])\n",
    "test_learner_srf_p005 = BaseSClassifier(learner=RandomForestClassifier(max_depth=6, random_state=1105), control_name='control')\n",
    "test_cate_srf_p005 = test_learner_srf_p005.fit_predict(X=x_test1,\n",
    "                treatment=df_test0['treatment'], y=df_test0['adrd'])"
   ]
  },
  {
   "cell_type": "code",
   "execution_count": 45,
   "metadata": {},
   "outputs": [
    {
     "data": {
      "text/plain": [
       "0.022545722349253002"
      ]
     },
     "execution_count": 45,
     "metadata": {},
     "output_type": "execute_result"
    }
   ],
   "source": [
    "((cate_srf_p005-test_cate_srf_p005)**2).mean()**(1/2)"
   ]
  },
  {
   "cell_type": "markdown",
   "metadata": {},
   "source": [
    "## Models trained with selected features (score > 1)"
   ]
  },
  {
   "cell_type": "code",
   "execution_count": 46,
   "metadata": {},
   "outputs": [],
   "source": [
    "x_train_s1 = df_train0[fet_nm_s1]\n",
    "x_test_s1 = df_test0[fet_nm_s1]"
   ]
  },
  {
   "cell_type": "code",
   "execution_count": 47,
   "metadata": {},
   "outputs": [],
   "source": [
    "learner_srf_s1 = BaseSClassifier(learner=RandomForestClassifier(max_depth=6, random_state=1105), control_name='control')\n",
    "learner_srf_s1.fit(X=x_train_s1,treatment=df_train0['treatment'],y=df_train0['adrd'])"
   ]
  },
  {
   "cell_type": "code",
   "execution_count": 49,
   "metadata": {},
   "outputs": [
    {
     "name": "stderr",
     "output_type": "stream",
     "text": [
      "INFO:causalml:Error metrics for group treatment\n",
      "INFO:causalml:     AUC   (Control):     0.5258\n",
      "INFO:causalml:     AUC (Treatment):     0.5314\n",
      "INFO:causalml:Log Loss   (Control):     0.3925\n",
      "INFO:causalml:Log Loss (Treatment):     0.3246\n",
      "INFO:causalml:Error metrics for group treatment\n",
      "INFO:causalml:     AUC   (Control):     0.9403\n",
      "INFO:causalml:     AUC (Treatment):     0.9307\n",
      "INFO:causalml:Log Loss   (Control):     0.3223\n",
      "INFO:causalml:Log Loss (Treatment):     0.2697\n"
     ]
    }
   ],
   "source": [
    "cate_srf_s1 = learner_srf_s1.predict(X=x_test_s1, treatment=df_test0['treatment'], y=df_test0['adrd'])\n",
    "test_learner_srf_s1 = BaseSClassifier(learner=RandomForestClassifier(max_depth=6, random_state=1105), control_name='control')\n",
    "test_cate_srf_s1 = test_learner_srf.fit_predict(X=x_test_s1,\n",
    "                treatment=df_test0['treatment'], y=df_test0['adrd'])"
   ]
  },
  {
   "cell_type": "code",
   "execution_count": 51,
   "metadata": {},
   "outputs": [
    {
     "data": {
      "text/plain": [
       "0.004381184804925557"
      ]
     },
     "execution_count": 51,
     "metadata": {},
     "output_type": "execute_result"
    }
   ],
   "source": [
    "((cate_srf_s1-test_cate_srf_s1)**2).mean()**(1/2)"
   ]
  },
  {
   "cell_type": "markdown",
   "metadata": {},
   "source": [
    "# IF-PEHE evaluation"
   ]
  },
  {
   "cell_type": "code",
   "execution_count": 39,
   "metadata": {},
   "outputs": [],
   "source": [
    "y_test = df_test0['adrd']"
   ]
  },
  {
   "cell_type": "code",
   "execution_count": 160,
   "metadata": {},
   "outputs": [],
   "source": [
    "xgb_plugin1 = XGBClassifier(max_depth=6, random_state=1105, n_estimators=100)\n",
    "xgb_plugin0 = XGBClassifier(max_depth=6, random_state=1108, n_estimators=100)"
   ]
  },
  {
   "cell_type": "code",
   "execution_count": 161,
   "metadata": {},
   "outputs": [],
   "source": [
    "x0 = df_train0.loc[df_train0['treatment'] == 'control', 0:248]\n",
    "y0 = df_train0.loc[df_train0['treatment'] == 'control', 'adrd']"
   ]
  },
  {
   "cell_type": "code",
   "execution_count": 162,
   "metadata": {},
   "outputs": [
    {
     "data": {
      "text/plain": [
       "XGBClassifier(base_score=0.5, booster='gbtree', colsample_bylevel=1,\n",
       "              colsample_bynode=1, colsample_bytree=1, gamma=0, gpu_id=-1,\n",
       "              importance_type='gain', interaction_constraints='',\n",
       "              learning_rate=0.300000012, max_delta_step=0, max_depth=6,\n",
       "              min_child_weight=1, missing=nan, monotone_constraints='()',\n",
       "              n_estimators=100, n_jobs=0, num_parallel_tree=1,\n",
       "              random_state=1108, reg_alpha=0, reg_lambda=1, scale_pos_weight=1,\n",
       "              subsample=1, tree_method='exact', validate_parameters=1,\n",
       "              verbosity=None)"
      ]
     },
     "execution_count": 162,
     "metadata": {},
     "output_type": "execute_result"
    }
   ],
   "source": [
    "xgb_plugin0.fit(x0, y0)"
   ]
  },
  {
   "cell_type": "code",
   "execution_count": 163,
   "metadata": {},
   "outputs": [],
   "source": [
    "x1 = df_train0.loc[df_train0['treatment'] == 'treatment', 0:248]\n",
    "y1 = df_train0.loc[df_train0['treatment'] == 'treatment', 'adrd']\n",
    "y_pred1 = xgb_plugin1.fit(x1, y1)"
   ]
  },
  {
   "cell_type": "code",
   "execution_count": 164,
   "metadata": {},
   "outputs": [],
   "source": [
    "y_pred0 = xgb_plugin0.predict(x_test0)\n",
    "y_pred1 = xgb_plugin1.predict(x_test0)"
   ]
  },
  {
   "cell_type": "code",
   "execution_count": 165,
   "metadata": {},
   "outputs": [],
   "source": [
    "t_plugin = y_pred1 - y_pred0"
   ]
  },
  {
   "cell_type": "code",
   "execution_count": 166,
   "metadata": {},
   "outputs": [],
   "source": [
    "ps = rf.predict_proba(x_test0)[:, 1]"
   ]
  },
  {
   "cell_type": "code",
   "execution_count": 167,
   "metadata": {},
   "outputs": [],
   "source": [
    "a = (treatment_test - ps)"
   ]
  },
  {
   "cell_type": "code",
   "execution_count": 168,
   "metadata": {},
   "outputs": [],
   "source": [
    "ident = np.array([1]*len(ps))\n",
    "c = (ps*(ident-ps))"
   ]
  },
  {
   "cell_type": "code",
   "execution_count": 169,
   "metadata": {},
   "outputs": [],
   "source": [
    "b = np.array([2]*len(treatment_test))*treatment_test*(treatment_test-ps) / c"
   ]
  },
  {
   "cell_type": "markdown",
   "metadata": {},
   "source": [
    "# S-learner"
   ]
  },
  {
   "cell_type": "code",
   "execution_count": 170,
   "metadata": {},
   "outputs": [
    {
     "data": {
      "text/plain": [
       "9.816688026373683"
      ]
     },
     "execution_count": 170,
     "metadata": {},
     "output_type": "execute_result"
    }
   ],
   "source": [
    "cate_srf = learner_srf.predict(X=x_test0, treatment=treatment_test)\n",
    "cate = cate_srf.flatten()\n",
    "plug_in = (t_plugin-cate)**2\n",
    "l_de = (ident - b) * t_plugin**2 + b*y_test*(t_plugin - cate) + (- a*(t_plugin - cate)**2 + cate**2)\n",
    "(np.sum(l_de) + np.sum(plug_in))"
   ]
  },
  {
   "cell_type": "code",
   "execution_count": 68,
   "metadata": {},
   "outputs": [
    {
     "data": {
      "text/plain": [
       "14.320256632940335"
      ]
     },
     "execution_count": 68,
     "metadata": {},
     "output_type": "execute_result"
    }
   ],
   "source": [
    "cate_srf_p005 = learner_srf_p005.predict(X=x_test1, treatment=treatment_test)\n",
    "cate = cate_srf_p005.flatten()\n",
    "plug_in = (t_plugin-cate)**2\n",
    "l_de = (ident - b) * t_plugin**2 + b*y_test*(t_plugin - cate) + (- a*(t_plugin - cate)**2 + cate**2)\n",
    "(np.sum(l_de) + np.sum(plug_in))"
   ]
  },
  {
   "cell_type": "code",
   "execution_count": 69,
   "metadata": {},
   "outputs": [
    {
     "data": {
      "text/plain": [
       "10.496601694652181"
      ]
     },
     "execution_count": 69,
     "metadata": {},
     "output_type": "execute_result"
    }
   ],
   "source": [
    "cate_srf_s1 = learner_srf_s1.predict(X=x_test_s1, treatment=treatment_test)\n",
    "cate = cate_srf_s1.flatten()\n",
    "plug_in = (t_plugin-cate)**2\n",
    "l_de = (ident - b) * t_plugin**2 + b*y_test*(t_plugin - cate) + (- a*(t_plugin - cate)**2 + cate**2)\n",
    "(np.sum(l_de) + np.sum(plug_in))"
   ]
  },
  {
   "cell_type": "code",
   "execution_count": 88,
   "metadata": {},
   "outputs": [
    {
     "data": {
      "text/plain": [
       "21"
      ]
     },
     "execution_count": 88,
     "metadata": {},
     "output_type": "execute_result"
    }
   ],
   "source": [
    "len(np.arange(70, 112, 2))"
   ]
  },
  {
   "cell_type": "code",
   "execution_count": null,
   "metadata": {},
   "outputs": [],
   "source": []
  }
 ],
 "metadata": {
  "kernelspec": {
   "display_name": "Python [conda env:.conda-yling] *",
   "language": "python",
   "name": "conda-env-.conda-yling-py"
  },
  "language_info": {
   "codemirror_mode": {
    "name": "ipython",
    "version": 3
   },
   "file_extension": ".py",
   "mimetype": "text/x-python",
   "name": "python",
   "nbconvert_exporter": "python",
   "pygments_lexer": "ipython3",
   "version": "3.7.7"
  }
 },
 "nbformat": 4,
 "nbformat_minor": 4
}
